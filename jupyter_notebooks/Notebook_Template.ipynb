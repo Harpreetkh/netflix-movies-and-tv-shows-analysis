{
 "cells": [
  {
   "cell_type": "markdown",
   "metadata": {
    "id": "0aStgWSO0E0E"
   },
   "source": [
    "# **Netflix Movies and TV Shows Analysis**"
   ]
  },
  {
   "cell_type": "markdown",
   "metadata": {
    "id": "1eLEkw5O0ECa"
   },
   "source": [
    "## Objectives\n",
    "The objectives of this project are to analyse Netflix content data to gain insights into:\n",
    "\n",
    "- Distribution of content types (Movies vs TV Shows) on Netflix.\n",
    "- Popularity and distribution of different genres.\n",
    "- Regional differences in Netflix content production.\n",
    "- Trends in release years and durations.\n",
    "- Impact of ratings and other features on the content catalogue.\n",
    "\n",
    "These objectives will be achieved through the following activities:\n",
    "\n",
    "- Fetching and loading the Netflix dataset from Kaggle.\n",
    "- Data cleaning and preprocessing.\n",
    "- Exploratory Data Analysis (EDA) to understand data distribution.\n",
    "- Creating visualisations using Python libraries such as Matplotlib, Seaborn, and Plotly.\n",
    "- Drawing insights from various charts and graphs.\n",
    "- Using Power BI for further data exploration and dashboarding.\n",
    "\n",
    "## Inputs\n",
    "- Dataset: Netflix Shows data from Kaggle (`netflix_titles.csv` or equivalent)\n",
    "- Libraries: NumPy, Pandas, Matplotlib, Seaborn, Plotly\n",
    "\n",
    "## Outputs\n",
    "- Cleaned and processed dataset ready for analysis.\n",
    "- Exploratory Data Analysis (EDA) including visualizations.\n",
    "- Insights on content distribution by type, genre, country, release year, and ratings.\n",
    "- Interactive charts and dashboards for presenting findings.\n",
    "\n",
    "---\n",
    "\n",
    "# Hypotheses and Validation\n",
    "\n",
    "### Hypothesis 1: Content Added by Month or Year (Trend)  \n",
    "*The total amount of content added on Netflix varies over time, showing identifiable trends by month and year.*\n",
    "\n",
    "**Validation:**  \n",
    "- Extract month and year from the `date_added` column.  \n",
    "- Aggregate counts of shows added by month and year.  \n",
    "- Use Seaborn line plots to visualise trends over months and years, highlighting both seasonal patterns and long-term growth.\n",
    "\n",
    "\n",
    "### Hypothesis 2: Compare Movies vs TV Programmes Growth  \n",
    "*The number of movies and TV programmes added to Netflix grows at different rates over the years.*\n",
    "\n",
    "**Validation:**  \n",
    "- Extract the year from the `date_added` column.  \n",
    "- Group data by content type (`Movie` or `TV Show`) and year added.  \n",
    "- Use a Matplotlib line chart to compare yearly counts of movies and TV programmes.\n",
    "\n",
    "\n",
    "### Hypothesis 3: Top Countries by Content Count  \n",
    "*Certain countries contribute significantly more content to Netflix's library.*\n",
    "\n",
    "**Validation:**  \n",
    "- Group data by the `country` column and count shows.  \n",
    "- Use a Plotly interactive bar chart or map to visualise top contributing countries.\n",
    "\n",
    "\n",
    "### Hypothesis 4: Top Genres on Netflix  \n",
    "*Some genres dominate the Netflix catalogue more than others.*\n",
    "\n",
    "**Validation:**  \n",
    "- Use the `genre` column (originally `listed_in`) as categories.  \n",
    "- Count the number of shows in each genre.  \n",
    "- Visualise the most common genres with a Seaborn bar chart.\n",
    "\n",
    "\n"
   ]
  },
  {
   "cell_type": "markdown",
   "metadata": {
    "id": "9uWZXH9LwoQg"
   },
   "source": [
    "---"
   ]
  },
  {
   "cell_type": "markdown",
   "metadata": {
    "id": "-mavJ8DibrcQ"
   },
   "source": [
    "# Section 1 - Extracting the data"
   ]
  },
  {
   "cell_type": "markdown",
   "metadata": {},
   "source": [
    "In this section, I:\n",
    "\n",
    "- Imported all required Python libraries for data analysis and visualisation (pandas, NumPy, matplotlib, seaborn, plotly)\n",
    "- Loaded the dataset from the data folder\n",
    "- Displayed the first few rows of the dataset to understand its structure\n",
    "- Checked the column types and number of non-null values using .info()\n",
    "- Used .describe() to get summary statistics of numeric variables"
   ]
  },
  {
   "cell_type": "code",
   "execution_count": 1,
   "metadata": {},
   "outputs": [],
   "source": [
    "#import the necessary libraries\n",
    "import pandas as pd\n",
    "import numpy as np\n",
    "import matplotlib.pyplot as plt\n",
    "import seaborn as sns\n",
    "import plotly.express as px"
   ]
  },
  {
   "cell_type": "markdown",
   "metadata": {},
   "source": [
    "Extract the data"
   ]
  },
  {
   "cell_type": "code",
   "execution_count": 2,
   "metadata": {},
   "outputs": [
    {
     "data": {
      "text/html": [
       "<div>\n",
       "<style scoped>\n",
       "    .dataframe tbody tr th:only-of-type {\n",
       "        vertical-align: middle;\n",
       "    }\n",
       "\n",
       "    .dataframe tbody tr th {\n",
       "        vertical-align: top;\n",
       "    }\n",
       "\n",
       "    .dataframe thead th {\n",
       "        text-align: right;\n",
       "    }\n",
       "</style>\n",
       "<table border=\"1\" class=\"dataframe\">\n",
       "  <thead>\n",
       "    <tr style=\"text-align: right;\">\n",
       "      <th></th>\n",
       "      <th>show_id</th>\n",
       "      <th>type</th>\n",
       "      <th>title</th>\n",
       "      <th>director</th>\n",
       "      <th>cast</th>\n",
       "      <th>country</th>\n",
       "      <th>date_added</th>\n",
       "      <th>release_year</th>\n",
       "      <th>rating</th>\n",
       "      <th>duration</th>\n",
       "      <th>listed_in</th>\n",
       "      <th>description</th>\n",
       "    </tr>\n",
       "  </thead>\n",
       "  <tbody>\n",
       "    <tr>\n",
       "      <th>0</th>\n",
       "      <td>s1</td>\n",
       "      <td>Movie</td>\n",
       "      <td>Dick Johnson Is Dead</td>\n",
       "      <td>Kirsten Johnson</td>\n",
       "      <td>NaN</td>\n",
       "      <td>United States</td>\n",
       "      <td>September 25, 2021</td>\n",
       "      <td>2020</td>\n",
       "      <td>PG-13</td>\n",
       "      <td>90 min</td>\n",
       "      <td>Documentaries</td>\n",
       "      <td>As her father nears the end of his life, filmm...</td>\n",
       "    </tr>\n",
       "    <tr>\n",
       "      <th>1</th>\n",
       "      <td>s2</td>\n",
       "      <td>TV Show</td>\n",
       "      <td>Blood &amp; Water</td>\n",
       "      <td>NaN</td>\n",
       "      <td>Ama Qamata, Khosi Ngema, Gail Mabalane, Thaban...</td>\n",
       "      <td>South Africa</td>\n",
       "      <td>September 24, 2021</td>\n",
       "      <td>2021</td>\n",
       "      <td>TV-MA</td>\n",
       "      <td>2 Seasons</td>\n",
       "      <td>International TV Shows, TV Dramas, TV Mysteries</td>\n",
       "      <td>After crossing paths at a party, a Cape Town t...</td>\n",
       "    </tr>\n",
       "    <tr>\n",
       "      <th>2</th>\n",
       "      <td>s3</td>\n",
       "      <td>TV Show</td>\n",
       "      <td>Ganglands</td>\n",
       "      <td>Julien Leclercq</td>\n",
       "      <td>Sami Bouajila, Tracy Gotoas, Samuel Jouy, Nabi...</td>\n",
       "      <td>NaN</td>\n",
       "      <td>September 24, 2021</td>\n",
       "      <td>2021</td>\n",
       "      <td>TV-MA</td>\n",
       "      <td>1 Season</td>\n",
       "      <td>Crime TV Shows, International TV Shows, TV Act...</td>\n",
       "      <td>To protect his family from a powerful drug lor...</td>\n",
       "    </tr>\n",
       "    <tr>\n",
       "      <th>3</th>\n",
       "      <td>s4</td>\n",
       "      <td>TV Show</td>\n",
       "      <td>Jailbirds New Orleans</td>\n",
       "      <td>NaN</td>\n",
       "      <td>NaN</td>\n",
       "      <td>NaN</td>\n",
       "      <td>September 24, 2021</td>\n",
       "      <td>2021</td>\n",
       "      <td>TV-MA</td>\n",
       "      <td>1 Season</td>\n",
       "      <td>Docuseries, Reality TV</td>\n",
       "      <td>Feuds, flirtations and toilet talk go down amo...</td>\n",
       "    </tr>\n",
       "    <tr>\n",
       "      <th>4</th>\n",
       "      <td>s5</td>\n",
       "      <td>TV Show</td>\n",
       "      <td>Kota Factory</td>\n",
       "      <td>NaN</td>\n",
       "      <td>Mayur More, Jitendra Kumar, Ranjan Raj, Alam K...</td>\n",
       "      <td>India</td>\n",
       "      <td>September 24, 2021</td>\n",
       "      <td>2021</td>\n",
       "      <td>TV-MA</td>\n",
       "      <td>2 Seasons</td>\n",
       "      <td>International TV Shows, Romantic TV Shows, TV ...</td>\n",
       "      <td>In a city of coaching centers known to train I...</td>\n",
       "    </tr>\n",
       "  </tbody>\n",
       "</table>\n",
       "</div>"
      ],
      "text/plain": [
       "  show_id     type                  title         director  \\\n",
       "0      s1    Movie   Dick Johnson Is Dead  Kirsten Johnson   \n",
       "1      s2  TV Show          Blood & Water              NaN   \n",
       "2      s3  TV Show              Ganglands  Julien Leclercq   \n",
       "3      s4  TV Show  Jailbirds New Orleans              NaN   \n",
       "4      s5  TV Show           Kota Factory              NaN   \n",
       "\n",
       "                                                cast        country  \\\n",
       "0                                                NaN  United States   \n",
       "1  Ama Qamata, Khosi Ngema, Gail Mabalane, Thaban...   South Africa   \n",
       "2  Sami Bouajila, Tracy Gotoas, Samuel Jouy, Nabi...            NaN   \n",
       "3                                                NaN            NaN   \n",
       "4  Mayur More, Jitendra Kumar, Ranjan Raj, Alam K...          India   \n",
       "\n",
       "           date_added  release_year rating   duration  \\\n",
       "0  September 25, 2021          2020  PG-13     90 min   \n",
       "1  September 24, 2021          2021  TV-MA  2 Seasons   \n",
       "2  September 24, 2021          2021  TV-MA   1 Season   \n",
       "3  September 24, 2021          2021  TV-MA   1 Season   \n",
       "4  September 24, 2021          2021  TV-MA  2 Seasons   \n",
       "\n",
       "                                           listed_in  \\\n",
       "0                                      Documentaries   \n",
       "1    International TV Shows, TV Dramas, TV Mysteries   \n",
       "2  Crime TV Shows, International TV Shows, TV Act...   \n",
       "3                             Docuseries, Reality TV   \n",
       "4  International TV Shows, Romantic TV Shows, TV ...   \n",
       "\n",
       "                                         description  \n",
       "0  As her father nears the end of his life, filmm...  \n",
       "1  After crossing paths at a party, a Cape Town t...  \n",
       "2  To protect his family from a powerful drug lor...  \n",
       "3  Feuds, flirtations and toilet talk go down amo...  \n",
       "4  In a city of coaching centers known to train I...  "
      ]
     },
     "execution_count": 2,
     "metadata": {},
     "output_type": "execute_result"
    }
   ],
   "source": [
    "df = pd.read_csv('../data/netflix_titles.csv')\n",
    "# Display the first few rows of the dataframe\n",
    "df.head()"
   ]
  },
  {
   "cell_type": "markdown",
   "metadata": {},
   "source": [
    "Find out basic information about the data"
   ]
  },
  {
   "cell_type": "code",
   "execution_count": 3,
   "metadata": {},
   "outputs": [
    {
     "name": "stdout",
     "output_type": "stream",
     "text": [
      "<class 'pandas.core.frame.DataFrame'>\n",
      "RangeIndex: 8807 entries, 0 to 8806\n",
      "Data columns (total 12 columns):\n",
      " #   Column        Non-Null Count  Dtype \n",
      "---  ------        --------------  ----- \n",
      " 0   show_id       8807 non-null   object\n",
      " 1   type          8807 non-null   object\n",
      " 2   title         8807 non-null   object\n",
      " 3   director      6173 non-null   object\n",
      " 4   cast          7982 non-null   object\n",
      " 5   country       7976 non-null   object\n",
      " 6   date_added    8797 non-null   object\n",
      " 7   release_year  8807 non-null   int64 \n",
      " 8   rating        8803 non-null   object\n",
      " 9   duration      8804 non-null   object\n",
      " 10  listed_in     8807 non-null   object\n",
      " 11  description   8807 non-null   object\n",
      "dtypes: int64(1), object(11)\n",
      "memory usage: 825.8+ KB\n"
     ]
    }
   ],
   "source": [
    "df.info()"
   ]
  },
  {
   "cell_type": "code",
   "execution_count": 4,
   "metadata": {},
   "outputs": [
    {
     "data": {
      "text/html": [
       "<div>\n",
       "<style scoped>\n",
       "    .dataframe tbody tr th:only-of-type {\n",
       "        vertical-align: middle;\n",
       "    }\n",
       "\n",
       "    .dataframe tbody tr th {\n",
       "        vertical-align: top;\n",
       "    }\n",
       "\n",
       "    .dataframe thead th {\n",
       "        text-align: right;\n",
       "    }\n",
       "</style>\n",
       "<table border=\"1\" class=\"dataframe\">\n",
       "  <thead>\n",
       "    <tr style=\"text-align: right;\">\n",
       "      <th></th>\n",
       "      <th>release_year</th>\n",
       "    </tr>\n",
       "  </thead>\n",
       "  <tbody>\n",
       "    <tr>\n",
       "      <th>count</th>\n",
       "      <td>8807.000000</td>\n",
       "    </tr>\n",
       "    <tr>\n",
       "      <th>mean</th>\n",
       "      <td>2014.180198</td>\n",
       "    </tr>\n",
       "    <tr>\n",
       "      <th>std</th>\n",
       "      <td>8.819312</td>\n",
       "    </tr>\n",
       "    <tr>\n",
       "      <th>min</th>\n",
       "      <td>1925.000000</td>\n",
       "    </tr>\n",
       "    <tr>\n",
       "      <th>25%</th>\n",
       "      <td>2013.000000</td>\n",
       "    </tr>\n",
       "    <tr>\n",
       "      <th>50%</th>\n",
       "      <td>2017.000000</td>\n",
       "    </tr>\n",
       "    <tr>\n",
       "      <th>75%</th>\n",
       "      <td>2019.000000</td>\n",
       "    </tr>\n",
       "    <tr>\n",
       "      <th>max</th>\n",
       "      <td>2021.000000</td>\n",
       "    </tr>\n",
       "  </tbody>\n",
       "</table>\n",
       "</div>"
      ],
      "text/plain": [
       "       release_year\n",
       "count   8807.000000\n",
       "mean    2014.180198\n",
       "std        8.819312\n",
       "min     1925.000000\n",
       "25%     2013.000000\n",
       "50%     2017.000000\n",
       "75%     2019.000000\n",
       "max     2021.000000"
      ]
     },
     "execution_count": 4,
     "metadata": {},
     "output_type": "execute_result"
    }
   ],
   "source": [
    "# Display basic statistics of the dataframe\n",
    "df.describe()"
   ]
  },
  {
   "cell_type": "markdown",
   "metadata": {
    "id": "ZY3l0-AxO93d"
   },
   "source": [
    "---"
   ]
  },
  {
   "cell_type": "markdown",
   "metadata": {
    "id": "uFQo3ycuO-v6"
   },
   "source": [
    "# Section 2 - Transforming Data"
   ]
  },
  {
   "cell_type": "markdown",
   "metadata": {},
   "source": [
    "In this section, I performed data cleaning and preparation:\n",
    "\n",
    "- Handled missing values and incorrect formats\n",
    "- Extracted new columns\n",
    "- Standardised columns like duration and genre\n",
    "- Exported the cleaned data for Power BI and Python visualisation"
   ]
  },
  {
   "cell_type": "code",
   "execution_count": 5,
   "metadata": {},
   "outputs": [
    {
     "data": {
      "text/plain": [
       "show_id            0\n",
       "type               0\n",
       "title              0\n",
       "director        2634\n",
       "cast             825\n",
       "country          831\n",
       "date_added        10\n",
       "release_year       0\n",
       "rating             4\n",
       "duration           3\n",
       "listed_in          0\n",
       "description        0\n",
       "dtype: int64"
      ]
     },
     "execution_count": 5,
     "metadata": {},
     "output_type": "execute_result"
    }
   ],
   "source": [
    "df.isnull().sum() # Check for missing values in each column"
   ]
  },
  {
   "cell_type": "code",
   "execution_count": 6,
   "metadata": {},
   "outputs": [
    {
     "data": {
      "text/plain": [
       "0"
      ]
     },
     "execution_count": 6,
     "metadata": {},
     "output_type": "execute_result"
    }
   ],
   "source": [
    "int(df.duplicated().sum()) # Check for duplicate rows"
   ]
  },
  {
   "cell_type": "code",
   "execution_count": 7,
   "metadata": {},
   "outputs": [
    {
     "data": {
      "text/html": [
       "<div>\n",
       "<style scoped>\n",
       "    .dataframe tbody tr th:only-of-type {\n",
       "        vertical-align: middle;\n",
       "    }\n",
       "\n",
       "    .dataframe tbody tr th {\n",
       "        vertical-align: top;\n",
       "    }\n",
       "\n",
       "    .dataframe thead th {\n",
       "        text-align: right;\n",
       "    }\n",
       "</style>\n",
       "<table border=\"1\" class=\"dataframe\">\n",
       "  <thead>\n",
       "    <tr style=\"text-align: right;\">\n",
       "      <th></th>\n",
       "      <th>show_id</th>\n",
       "      <th>type</th>\n",
       "      <th>title</th>\n",
       "      <th>director</th>\n",
       "      <th>cast</th>\n",
       "      <th>country</th>\n",
       "      <th>date_added</th>\n",
       "      <th>release_year</th>\n",
       "      <th>rating</th>\n",
       "      <th>duration</th>\n",
       "      <th>listed_in</th>\n",
       "      <th>description</th>\n",
       "    </tr>\n",
       "  </thead>\n",
       "  <tbody>\n",
       "    <tr>\n",
       "      <th>0</th>\n",
       "      <td>s1</td>\n",
       "      <td>Movie</td>\n",
       "      <td>Dick Johnson Is Dead</td>\n",
       "      <td>Kirsten Johnson</td>\n",
       "      <td>Unknown</td>\n",
       "      <td>United States</td>\n",
       "      <td>September 25, 2021</td>\n",
       "      <td>2020</td>\n",
       "      <td>PG-13</td>\n",
       "      <td>90 min</td>\n",
       "      <td>Documentaries</td>\n",
       "      <td>As her father nears the end of his life, filmm...</td>\n",
       "    </tr>\n",
       "    <tr>\n",
       "      <th>1</th>\n",
       "      <td>s2</td>\n",
       "      <td>TV Show</td>\n",
       "      <td>Blood &amp; Water</td>\n",
       "      <td>Unknown</td>\n",
       "      <td>Ama Qamata, Khosi Ngema, Gail Mabalane, Thaban...</td>\n",
       "      <td>South Africa</td>\n",
       "      <td>September 24, 2021</td>\n",
       "      <td>2021</td>\n",
       "      <td>TV-MA</td>\n",
       "      <td>2 Seasons</td>\n",
       "      <td>International TV Shows, TV Dramas, TV Mysteries</td>\n",
       "      <td>After crossing paths at a party, a Cape Town t...</td>\n",
       "    </tr>\n",
       "    <tr>\n",
       "      <th>2</th>\n",
       "      <td>s3</td>\n",
       "      <td>TV Show</td>\n",
       "      <td>Ganglands</td>\n",
       "      <td>Julien Leclercq</td>\n",
       "      <td>Sami Bouajila, Tracy Gotoas, Samuel Jouy, Nabi...</td>\n",
       "      <td>Unknown</td>\n",
       "      <td>September 24, 2021</td>\n",
       "      <td>2021</td>\n",
       "      <td>TV-MA</td>\n",
       "      <td>1 Season</td>\n",
       "      <td>Crime TV Shows, International TV Shows, TV Act...</td>\n",
       "      <td>To protect his family from a powerful drug lor...</td>\n",
       "    </tr>\n",
       "    <tr>\n",
       "      <th>3</th>\n",
       "      <td>s4</td>\n",
       "      <td>TV Show</td>\n",
       "      <td>Jailbirds New Orleans</td>\n",
       "      <td>Unknown</td>\n",
       "      <td>Unknown</td>\n",
       "      <td>Unknown</td>\n",
       "      <td>September 24, 2021</td>\n",
       "      <td>2021</td>\n",
       "      <td>TV-MA</td>\n",
       "      <td>1 Season</td>\n",
       "      <td>Docuseries, Reality TV</td>\n",
       "      <td>Feuds, flirtations and toilet talk go down amo...</td>\n",
       "    </tr>\n",
       "    <tr>\n",
       "      <th>4</th>\n",
       "      <td>s5</td>\n",
       "      <td>TV Show</td>\n",
       "      <td>Kota Factory</td>\n",
       "      <td>Unknown</td>\n",
       "      <td>Mayur More, Jitendra Kumar, Ranjan Raj, Alam K...</td>\n",
       "      <td>India</td>\n",
       "      <td>September 24, 2021</td>\n",
       "      <td>2021</td>\n",
       "      <td>TV-MA</td>\n",
       "      <td>2 Seasons</td>\n",
       "      <td>International TV Shows, Romantic TV Shows, TV ...</td>\n",
       "      <td>In a city of coaching centers known to train I...</td>\n",
       "    </tr>\n",
       "  </tbody>\n",
       "</table>\n",
       "</div>"
      ],
      "text/plain": [
       "  show_id     type                  title         director  \\\n",
       "0      s1    Movie   Dick Johnson Is Dead  Kirsten Johnson   \n",
       "1      s2  TV Show          Blood & Water          Unknown   \n",
       "2      s3  TV Show              Ganglands  Julien Leclercq   \n",
       "3      s4  TV Show  Jailbirds New Orleans          Unknown   \n",
       "4      s5  TV Show           Kota Factory          Unknown   \n",
       "\n",
       "                                                cast        country  \\\n",
       "0                                            Unknown  United States   \n",
       "1  Ama Qamata, Khosi Ngema, Gail Mabalane, Thaban...   South Africa   \n",
       "2  Sami Bouajila, Tracy Gotoas, Samuel Jouy, Nabi...        Unknown   \n",
       "3                                            Unknown        Unknown   \n",
       "4  Mayur More, Jitendra Kumar, Ranjan Raj, Alam K...          India   \n",
       "\n",
       "           date_added  release_year rating   duration  \\\n",
       "0  September 25, 2021          2020  PG-13     90 min   \n",
       "1  September 24, 2021          2021  TV-MA  2 Seasons   \n",
       "2  September 24, 2021          2021  TV-MA   1 Season   \n",
       "3  September 24, 2021          2021  TV-MA   1 Season   \n",
       "4  September 24, 2021          2021  TV-MA  2 Seasons   \n",
       "\n",
       "                                           listed_in  \\\n",
       "0                                      Documentaries   \n",
       "1    International TV Shows, TV Dramas, TV Mysteries   \n",
       "2  Crime TV Shows, International TV Shows, TV Act...   \n",
       "3                             Docuseries, Reality TV   \n",
       "4  International TV Shows, Romantic TV Shows, TV ...   \n",
       "\n",
       "                                         description  \n",
       "0  As her father nears the end of his life, filmm...  \n",
       "1  After crossing paths at a party, a Cape Town t...  \n",
       "2  To protect his family from a powerful drug lor...  \n",
       "3  Feuds, flirtations and toilet talk go down amo...  \n",
       "4  In a city of coaching centers known to train I...  "
      ]
     },
     "execution_count": 7,
     "metadata": {},
     "output_type": "execute_result"
    }
   ],
   "source": [
    "#Replace missing values in 'director' and 'cast', 'country' with 'Unknown'\n",
    "df.fillna({\n",
    "    'director': 'Unknown',\n",
    "    'cast': 'Unknown',\n",
    "    'country': 'Unknown'\n",
    "}, inplace=True)\n",
    "df.head()"
   ]
  },
  {
   "cell_type": "code",
   "execution_count": 8,
   "metadata": {},
   "outputs": [
    {
     "data": {
      "text/html": [
       "<div>\n",
       "<style scoped>\n",
       "    .dataframe tbody tr th:only-of-type {\n",
       "        vertical-align: middle;\n",
       "    }\n",
       "\n",
       "    .dataframe tbody tr th {\n",
       "        vertical-align: top;\n",
       "    }\n",
       "\n",
       "    .dataframe thead th {\n",
       "        text-align: right;\n",
       "    }\n",
       "</style>\n",
       "<table border=\"1\" class=\"dataframe\">\n",
       "  <thead>\n",
       "    <tr style=\"text-align: right;\">\n",
       "      <th></th>\n",
       "      <th>type</th>\n",
       "      <th>title</th>\n",
       "      <th>director</th>\n",
       "      <th>cast</th>\n",
       "      <th>country</th>\n",
       "      <th>date_added</th>\n",
       "      <th>release_year</th>\n",
       "      <th>rating</th>\n",
       "      <th>duration</th>\n",
       "      <th>listed_in</th>\n",
       "    </tr>\n",
       "  </thead>\n",
       "  <tbody>\n",
       "    <tr>\n",
       "      <th>0</th>\n",
       "      <td>Movie</td>\n",
       "      <td>Dick Johnson Is Dead</td>\n",
       "      <td>Kirsten Johnson</td>\n",
       "      <td>Unknown</td>\n",
       "      <td>United States</td>\n",
       "      <td>2021-09-25</td>\n",
       "      <td>2020</td>\n",
       "      <td>PG-13</td>\n",
       "      <td>90 min</td>\n",
       "      <td>Documentaries</td>\n",
       "    </tr>\n",
       "    <tr>\n",
       "      <th>1</th>\n",
       "      <td>TV Show</td>\n",
       "      <td>Blood &amp; Water</td>\n",
       "      <td>Unknown</td>\n",
       "      <td>Ama Qamata, Khosi Ngema, Gail Mabalane, Thaban...</td>\n",
       "      <td>South Africa</td>\n",
       "      <td>2021-09-24</td>\n",
       "      <td>2021</td>\n",
       "      <td>TV-MA</td>\n",
       "      <td>2 Seasons</td>\n",
       "      <td>International TV Shows, TV Dramas, TV Mysteries</td>\n",
       "    </tr>\n",
       "    <tr>\n",
       "      <th>2</th>\n",
       "      <td>TV Show</td>\n",
       "      <td>Ganglands</td>\n",
       "      <td>Julien Leclercq</td>\n",
       "      <td>Sami Bouajila, Tracy Gotoas, Samuel Jouy, Nabi...</td>\n",
       "      <td>Unknown</td>\n",
       "      <td>2021-09-24</td>\n",
       "      <td>2021</td>\n",
       "      <td>TV-MA</td>\n",
       "      <td>1 Season</td>\n",
       "      <td>Crime TV Shows, International TV Shows, TV Act...</td>\n",
       "    </tr>\n",
       "    <tr>\n",
       "      <th>3</th>\n",
       "      <td>TV Show</td>\n",
       "      <td>Jailbirds New Orleans</td>\n",
       "      <td>Unknown</td>\n",
       "      <td>Unknown</td>\n",
       "      <td>Unknown</td>\n",
       "      <td>2021-09-24</td>\n",
       "      <td>2021</td>\n",
       "      <td>TV-MA</td>\n",
       "      <td>1 Season</td>\n",
       "      <td>Docuseries, Reality TV</td>\n",
       "    </tr>\n",
       "    <tr>\n",
       "      <th>4</th>\n",
       "      <td>TV Show</td>\n",
       "      <td>Kota Factory</td>\n",
       "      <td>Unknown</td>\n",
       "      <td>Mayur More, Jitendra Kumar, Ranjan Raj, Alam K...</td>\n",
       "      <td>India</td>\n",
       "      <td>2021-09-24</td>\n",
       "      <td>2021</td>\n",
       "      <td>TV-MA</td>\n",
       "      <td>2 Seasons</td>\n",
       "      <td>International TV Shows, Romantic TV Shows, TV ...</td>\n",
       "    </tr>\n",
       "    <tr>\n",
       "      <th>...</th>\n",
       "      <td>...</td>\n",
       "      <td>...</td>\n",
       "      <td>...</td>\n",
       "      <td>...</td>\n",
       "      <td>...</td>\n",
       "      <td>...</td>\n",
       "      <td>...</td>\n",
       "      <td>...</td>\n",
       "      <td>...</td>\n",
       "      <td>...</td>\n",
       "    </tr>\n",
       "    <tr>\n",
       "      <th>8802</th>\n",
       "      <td>Movie</td>\n",
       "      <td>Zodiac</td>\n",
       "      <td>David Fincher</td>\n",
       "      <td>Mark Ruffalo, Jake Gyllenhaal, Robert Downey J...</td>\n",
       "      <td>United States</td>\n",
       "      <td>2019-11-20</td>\n",
       "      <td>2007</td>\n",
       "      <td>R</td>\n",
       "      <td>158 min</td>\n",
       "      <td>Cult Movies, Dramas, Thrillers</td>\n",
       "    </tr>\n",
       "    <tr>\n",
       "      <th>8803</th>\n",
       "      <td>TV Show</td>\n",
       "      <td>Zombie Dumb</td>\n",
       "      <td>Unknown</td>\n",
       "      <td>Unknown</td>\n",
       "      <td>Unknown</td>\n",
       "      <td>2019-07-01</td>\n",
       "      <td>2018</td>\n",
       "      <td>TV-Y7</td>\n",
       "      <td>2 Seasons</td>\n",
       "      <td>Kids' TV, Korean TV Shows, TV Comedies</td>\n",
       "    </tr>\n",
       "    <tr>\n",
       "      <th>8804</th>\n",
       "      <td>Movie</td>\n",
       "      <td>Zombieland</td>\n",
       "      <td>Ruben Fleischer</td>\n",
       "      <td>Jesse Eisenberg, Woody Harrelson, Emma Stone, ...</td>\n",
       "      <td>United States</td>\n",
       "      <td>2019-11-01</td>\n",
       "      <td>2009</td>\n",
       "      <td>R</td>\n",
       "      <td>88 min</td>\n",
       "      <td>Comedies, Horror Movies</td>\n",
       "    </tr>\n",
       "    <tr>\n",
       "      <th>8805</th>\n",
       "      <td>Movie</td>\n",
       "      <td>Zoom</td>\n",
       "      <td>Peter Hewitt</td>\n",
       "      <td>Tim Allen, Courteney Cox, Chevy Chase, Kate Ma...</td>\n",
       "      <td>United States</td>\n",
       "      <td>2020-01-11</td>\n",
       "      <td>2006</td>\n",
       "      <td>PG</td>\n",
       "      <td>88 min</td>\n",
       "      <td>Children &amp; Family Movies, Comedies</td>\n",
       "    </tr>\n",
       "    <tr>\n",
       "      <th>8806</th>\n",
       "      <td>Movie</td>\n",
       "      <td>Zubaan</td>\n",
       "      <td>Mozez Singh</td>\n",
       "      <td>Vicky Kaushal, Sarah-Jane Dias, Raaghav Chanan...</td>\n",
       "      <td>India</td>\n",
       "      <td>2019-03-02</td>\n",
       "      <td>2015</td>\n",
       "      <td>TV-14</td>\n",
       "      <td>111 min</td>\n",
       "      <td>Dramas, International Movies, Music &amp; Musicals</td>\n",
       "    </tr>\n",
       "  </tbody>\n",
       "</table>\n",
       "<p>8797 rows × 10 columns</p>\n",
       "</div>"
      ],
      "text/plain": [
       "         type                  title         director  \\\n",
       "0       Movie   Dick Johnson Is Dead  Kirsten Johnson   \n",
       "1     TV Show          Blood & Water          Unknown   \n",
       "2     TV Show              Ganglands  Julien Leclercq   \n",
       "3     TV Show  Jailbirds New Orleans          Unknown   \n",
       "4     TV Show           Kota Factory          Unknown   \n",
       "...       ...                    ...              ...   \n",
       "8802    Movie                 Zodiac    David Fincher   \n",
       "8803  TV Show            Zombie Dumb          Unknown   \n",
       "8804    Movie             Zombieland  Ruben Fleischer   \n",
       "8805    Movie                   Zoom     Peter Hewitt   \n",
       "8806    Movie                 Zubaan      Mozez Singh   \n",
       "\n",
       "                                                   cast        country  \\\n",
       "0                                               Unknown  United States   \n",
       "1     Ama Qamata, Khosi Ngema, Gail Mabalane, Thaban...   South Africa   \n",
       "2     Sami Bouajila, Tracy Gotoas, Samuel Jouy, Nabi...        Unknown   \n",
       "3                                               Unknown        Unknown   \n",
       "4     Mayur More, Jitendra Kumar, Ranjan Raj, Alam K...          India   \n",
       "...                                                 ...            ...   \n",
       "8802  Mark Ruffalo, Jake Gyllenhaal, Robert Downey J...  United States   \n",
       "8803                                            Unknown        Unknown   \n",
       "8804  Jesse Eisenberg, Woody Harrelson, Emma Stone, ...  United States   \n",
       "8805  Tim Allen, Courteney Cox, Chevy Chase, Kate Ma...  United States   \n",
       "8806  Vicky Kaushal, Sarah-Jane Dias, Raaghav Chanan...          India   \n",
       "\n",
       "     date_added  release_year rating   duration  \\\n",
       "0    2021-09-25          2020  PG-13     90 min   \n",
       "1    2021-09-24          2021  TV-MA  2 Seasons   \n",
       "2    2021-09-24          2021  TV-MA   1 Season   \n",
       "3    2021-09-24          2021  TV-MA   1 Season   \n",
       "4    2021-09-24          2021  TV-MA  2 Seasons   \n",
       "...         ...           ...    ...        ...   \n",
       "8802 2019-11-20          2007      R    158 min   \n",
       "8803 2019-07-01          2018  TV-Y7  2 Seasons   \n",
       "8804 2019-11-01          2009      R     88 min   \n",
       "8805 2020-01-11          2006     PG     88 min   \n",
       "8806 2019-03-02          2015  TV-14    111 min   \n",
       "\n",
       "                                              listed_in  \n",
       "0                                         Documentaries  \n",
       "1       International TV Shows, TV Dramas, TV Mysteries  \n",
       "2     Crime TV Shows, International TV Shows, TV Act...  \n",
       "3                                Docuseries, Reality TV  \n",
       "4     International TV Shows, Romantic TV Shows, TV ...  \n",
       "...                                                 ...  \n",
       "8802                     Cult Movies, Dramas, Thrillers  \n",
       "8803             Kids' TV, Korean TV Shows, TV Comedies  \n",
       "8804                            Comedies, Horror Movies  \n",
       "8805                 Children & Family Movies, Comedies  \n",
       "8806     Dramas, International Movies, Music & Musicals  \n",
       "\n",
       "[8797 rows x 10 columns]"
      ]
     },
     "execution_count": 8,
     "metadata": {},
     "output_type": "execute_result"
    }
   ],
   "source": [
    "# Convert 'date_added' to datetime format using mixed format to handle inconsistencies\n",
    "df['date_added'] = pd.to_datetime(df['date_added'], format='mixed')\n",
    "\n",
    "# Drop rows with missing values in 'release_year'\n",
    "df.dropna(subset=['release_year'], inplace=True)\n",
    "\n",
    "# Drop rows with missing date_added (only 10 rows)\n",
    "df.dropna(subset=['date_added'], inplace=True)\n",
    "\n",
    "# Drop unnecessary columns\n",
    "df.drop(columns=['show_id', 'description'], inplace=True)\n",
    "df"
   ]
  },
  {
   "cell_type": "code",
   "execution_count": 9,
   "metadata": {},
   "outputs": [
    {
     "data": {
      "text/html": [
       "<div>\n",
       "<style scoped>\n",
       "    .dataframe tbody tr th:only-of-type {\n",
       "        vertical-align: middle;\n",
       "    }\n",
       "\n",
       "    .dataframe tbody tr th {\n",
       "        vertical-align: top;\n",
       "    }\n",
       "\n",
       "    .dataframe thead th {\n",
       "        text-align: right;\n",
       "    }\n",
       "</style>\n",
       "<table border=\"1\" class=\"dataframe\">\n",
       "  <thead>\n",
       "    <tr style=\"text-align: right;\">\n",
       "      <th></th>\n",
       "      <th>type</th>\n",
       "      <th>title</th>\n",
       "      <th>director</th>\n",
       "      <th>cast</th>\n",
       "      <th>country</th>\n",
       "      <th>date_added</th>\n",
       "      <th>release_year</th>\n",
       "      <th>rating</th>\n",
       "      <th>duration</th>\n",
       "      <th>listed_in</th>\n",
       "      <th>month_added</th>\n",
       "      <th>month_name_added</th>\n",
       "      <th>year_added</th>\n",
       "    </tr>\n",
       "  </thead>\n",
       "  <tbody>\n",
       "    <tr>\n",
       "      <th>0</th>\n",
       "      <td>Movie</td>\n",
       "      <td>Dick Johnson Is Dead</td>\n",
       "      <td>Kirsten Johnson</td>\n",
       "      <td>Unknown</td>\n",
       "      <td>United States</td>\n",
       "      <td>2021-09-25</td>\n",
       "      <td>2020</td>\n",
       "      <td>PG-13</td>\n",
       "      <td>90 min</td>\n",
       "      <td>Documentaries</td>\n",
       "      <td>9</td>\n",
       "      <td>September</td>\n",
       "      <td>2021</td>\n",
       "    </tr>\n",
       "    <tr>\n",
       "      <th>1</th>\n",
       "      <td>TV Show</td>\n",
       "      <td>Blood &amp; Water</td>\n",
       "      <td>Unknown</td>\n",
       "      <td>Ama Qamata, Khosi Ngema, Gail Mabalane, Thaban...</td>\n",
       "      <td>South Africa</td>\n",
       "      <td>2021-09-24</td>\n",
       "      <td>2021</td>\n",
       "      <td>TV-MA</td>\n",
       "      <td>2 Seasons</td>\n",
       "      <td>International TV Shows, TV Dramas, TV Mysteries</td>\n",
       "      <td>9</td>\n",
       "      <td>September</td>\n",
       "      <td>2021</td>\n",
       "    </tr>\n",
       "    <tr>\n",
       "      <th>2</th>\n",
       "      <td>TV Show</td>\n",
       "      <td>Ganglands</td>\n",
       "      <td>Julien Leclercq</td>\n",
       "      <td>Sami Bouajila, Tracy Gotoas, Samuel Jouy, Nabi...</td>\n",
       "      <td>Unknown</td>\n",
       "      <td>2021-09-24</td>\n",
       "      <td>2021</td>\n",
       "      <td>TV-MA</td>\n",
       "      <td>1 Season</td>\n",
       "      <td>Crime TV Shows, International TV Shows, TV Act...</td>\n",
       "      <td>9</td>\n",
       "      <td>September</td>\n",
       "      <td>2021</td>\n",
       "    </tr>\n",
       "    <tr>\n",
       "      <th>3</th>\n",
       "      <td>TV Show</td>\n",
       "      <td>Jailbirds New Orleans</td>\n",
       "      <td>Unknown</td>\n",
       "      <td>Unknown</td>\n",
       "      <td>Unknown</td>\n",
       "      <td>2021-09-24</td>\n",
       "      <td>2021</td>\n",
       "      <td>TV-MA</td>\n",
       "      <td>1 Season</td>\n",
       "      <td>Docuseries, Reality TV</td>\n",
       "      <td>9</td>\n",
       "      <td>September</td>\n",
       "      <td>2021</td>\n",
       "    </tr>\n",
       "    <tr>\n",
       "      <th>4</th>\n",
       "      <td>TV Show</td>\n",
       "      <td>Kota Factory</td>\n",
       "      <td>Unknown</td>\n",
       "      <td>Mayur More, Jitendra Kumar, Ranjan Raj, Alam K...</td>\n",
       "      <td>India</td>\n",
       "      <td>2021-09-24</td>\n",
       "      <td>2021</td>\n",
       "      <td>TV-MA</td>\n",
       "      <td>2 Seasons</td>\n",
       "      <td>International TV Shows, Romantic TV Shows, TV ...</td>\n",
       "      <td>9</td>\n",
       "      <td>September</td>\n",
       "      <td>2021</td>\n",
       "    </tr>\n",
       "  </tbody>\n",
       "</table>\n",
       "</div>"
      ],
      "text/plain": [
       "      type                  title         director  \\\n",
       "0    Movie   Dick Johnson Is Dead  Kirsten Johnson   \n",
       "1  TV Show          Blood & Water          Unknown   \n",
       "2  TV Show              Ganglands  Julien Leclercq   \n",
       "3  TV Show  Jailbirds New Orleans          Unknown   \n",
       "4  TV Show           Kota Factory          Unknown   \n",
       "\n",
       "                                                cast        country  \\\n",
       "0                                            Unknown  United States   \n",
       "1  Ama Qamata, Khosi Ngema, Gail Mabalane, Thaban...   South Africa   \n",
       "2  Sami Bouajila, Tracy Gotoas, Samuel Jouy, Nabi...        Unknown   \n",
       "3                                            Unknown        Unknown   \n",
       "4  Mayur More, Jitendra Kumar, Ranjan Raj, Alam K...          India   \n",
       "\n",
       "  date_added  release_year rating   duration  \\\n",
       "0 2021-09-25          2020  PG-13     90 min   \n",
       "1 2021-09-24          2021  TV-MA  2 Seasons   \n",
       "2 2021-09-24          2021  TV-MA   1 Season   \n",
       "3 2021-09-24          2021  TV-MA   1 Season   \n",
       "4 2021-09-24          2021  TV-MA  2 Seasons   \n",
       "\n",
       "                                           listed_in  month_added  \\\n",
       "0                                      Documentaries            9   \n",
       "1    International TV Shows, TV Dramas, TV Mysteries            9   \n",
       "2  Crime TV Shows, International TV Shows, TV Act...            9   \n",
       "3                             Docuseries, Reality TV            9   \n",
       "4  International TV Shows, Romantic TV Shows, TV ...            9   \n",
       "\n",
       "  month_name_added  year_added  \n",
       "0        September        2021  \n",
       "1        September        2021  \n",
       "2        September        2021  \n",
       "3        September        2021  \n",
       "4        September        2021  "
      ]
     },
     "execution_count": 9,
     "metadata": {},
     "output_type": "execute_result"
    }
   ],
   "source": [
    "# Add columns for date\n",
    "df[\"date_added\"] = pd.to_datetime(df['date_added'])\n",
    "\n",
    "df['month_added']=df['date_added'].dt.month # Extract month\n",
    "df['month_name_added']=df['date_added'].dt.month_name() # Extract month name\n",
    "df['year_added'] = df['date_added'].dt.year # Extract year\n",
    "df.head()"
   ]
  },
  {
   "cell_type": "code",
   "execution_count": 10,
   "metadata": {},
   "outputs": [
    {
     "data": {
      "text/html": [
       "<div>\n",
       "<style scoped>\n",
       "    .dataframe tbody tr th:only-of-type {\n",
       "        vertical-align: middle;\n",
       "    }\n",
       "\n",
       "    .dataframe tbody tr th {\n",
       "        vertical-align: top;\n",
       "    }\n",
       "\n",
       "    .dataframe thead th {\n",
       "        text-align: right;\n",
       "    }\n",
       "</style>\n",
       "<table border=\"1\" class=\"dataframe\">\n",
       "  <thead>\n",
       "    <tr style=\"text-align: right;\">\n",
       "      <th></th>\n",
       "      <th>type</th>\n",
       "      <th>title</th>\n",
       "      <th>director</th>\n",
       "      <th>cast</th>\n",
       "      <th>country</th>\n",
       "      <th>date_added</th>\n",
       "      <th>release_year</th>\n",
       "      <th>rating</th>\n",
       "      <th>duration</th>\n",
       "      <th>listed_in</th>\n",
       "      <th>month_added</th>\n",
       "      <th>month_name_added</th>\n",
       "      <th>year_added</th>\n",
       "    </tr>\n",
       "  </thead>\n",
       "  <tbody>\n",
       "    <tr>\n",
       "      <th>0</th>\n",
       "      <td>Movie</td>\n",
       "      <td>Dick Johnson Is Dead</td>\n",
       "      <td>Kirsten Johnson</td>\n",
       "      <td>Unknown</td>\n",
       "      <td>United States</td>\n",
       "      <td>2021-09-25</td>\n",
       "      <td>2020</td>\n",
       "      <td>PG-13</td>\n",
       "      <td>90 min</td>\n",
       "      <td>Documentaries</td>\n",
       "      <td>9</td>\n",
       "      <td>September</td>\n",
       "      <td>2021</td>\n",
       "    </tr>\n",
       "    <tr>\n",
       "      <th>1</th>\n",
       "      <td>TV Show</td>\n",
       "      <td>Blood &amp; Water</td>\n",
       "      <td>Unknown</td>\n",
       "      <td>Ama Qamata, Khosi Ngema, Gail Mabalane, Thaban...</td>\n",
       "      <td>South Africa</td>\n",
       "      <td>2021-09-24</td>\n",
       "      <td>2021</td>\n",
       "      <td>TV-MA</td>\n",
       "      <td>2 Seasons</td>\n",
       "      <td>International TV Shows, TV Dramas, TV Mysteries</td>\n",
       "      <td>9</td>\n",
       "      <td>September</td>\n",
       "      <td>2021</td>\n",
       "    </tr>\n",
       "    <tr>\n",
       "      <th>2</th>\n",
       "      <td>TV Show</td>\n",
       "      <td>Ganglands</td>\n",
       "      <td>Julien Leclercq</td>\n",
       "      <td>Sami Bouajila, Tracy Gotoas, Samuel Jouy, Nabi...</td>\n",
       "      <td>Unknown</td>\n",
       "      <td>2021-09-24</td>\n",
       "      <td>2021</td>\n",
       "      <td>TV-MA</td>\n",
       "      <td>1 Season</td>\n",
       "      <td>Crime TV Shows, International TV Shows, TV Act...</td>\n",
       "      <td>9</td>\n",
       "      <td>September</td>\n",
       "      <td>2021</td>\n",
       "    </tr>\n",
       "    <tr>\n",
       "      <th>3</th>\n",
       "      <td>TV Show</td>\n",
       "      <td>Jailbirds New Orleans</td>\n",
       "      <td>Unknown</td>\n",
       "      <td>Unknown</td>\n",
       "      <td>Unknown</td>\n",
       "      <td>2021-09-24</td>\n",
       "      <td>2021</td>\n",
       "      <td>TV-MA</td>\n",
       "      <td>1 Season</td>\n",
       "      <td>Docuseries, Reality TV</td>\n",
       "      <td>9</td>\n",
       "      <td>September</td>\n",
       "      <td>2021</td>\n",
       "    </tr>\n",
       "    <tr>\n",
       "      <th>4</th>\n",
       "      <td>TV Show</td>\n",
       "      <td>Kota Factory</td>\n",
       "      <td>Unknown</td>\n",
       "      <td>Mayur More, Jitendra Kumar, Ranjan Raj, Alam K...</td>\n",
       "      <td>India</td>\n",
       "      <td>2021-09-24</td>\n",
       "      <td>2021</td>\n",
       "      <td>TV-MA</td>\n",
       "      <td>2 Seasons</td>\n",
       "      <td>International TV Shows, Romantic TV Shows, TV ...</td>\n",
       "      <td>9</td>\n",
       "      <td>September</td>\n",
       "      <td>2021</td>\n",
       "    </tr>\n",
       "  </tbody>\n",
       "</table>\n",
       "</div>"
      ],
      "text/plain": [
       "      type                  title         director  \\\n",
       "0    Movie   Dick Johnson Is Dead  Kirsten Johnson   \n",
       "1  TV Show          Blood & Water          Unknown   \n",
       "2  TV Show              Ganglands  Julien Leclercq   \n",
       "3  TV Show  Jailbirds New Orleans          Unknown   \n",
       "4  TV Show           Kota Factory          Unknown   \n",
       "\n",
       "                                                cast        country  \\\n",
       "0                                            Unknown  United States   \n",
       "1  Ama Qamata, Khosi Ngema, Gail Mabalane, Thaban...   South Africa   \n",
       "2  Sami Bouajila, Tracy Gotoas, Samuel Jouy, Nabi...        Unknown   \n",
       "3                                            Unknown        Unknown   \n",
       "4  Mayur More, Jitendra Kumar, Ranjan Raj, Alam K...          India   \n",
       "\n",
       "  date_added  release_year rating   duration  \\\n",
       "0 2021-09-25          2020  PG-13     90 min   \n",
       "1 2021-09-24          2021  TV-MA  2 Seasons   \n",
       "2 2021-09-24          2021  TV-MA   1 Season   \n",
       "3 2021-09-24          2021  TV-MA   1 Season   \n",
       "4 2021-09-24          2021  TV-MA  2 Seasons   \n",
       "\n",
       "                                           listed_in  month_added  \\\n",
       "0                                      Documentaries            9   \n",
       "1    International TV Shows, TV Dramas, TV Mysteries            9   \n",
       "2  Crime TV Shows, International TV Shows, TV Act...            9   \n",
       "3                             Docuseries, Reality TV            9   \n",
       "4  International TV Shows, Romantic TV Shows, TV ...            9   \n",
       "\n",
       "  month_name_added  year_added  \n",
       "0        September        2021  \n",
       "1        September        2021  \n",
       "2        September        2021  \n",
       "3        September        2021  \n",
       "4        September        2021  "
      ]
     },
     "execution_count": 10,
     "metadata": {},
     "output_type": "execute_result"
    }
   ],
   "source": [
    "# Fill missing values in 'rating' with mode\n",
    "df.fillna({\n",
    "    'rating': df['rating'].mode()[0]\n",
    "}, inplace=True)\n",
    "df.head()"
   ]
  },
  {
   "cell_type": "code",
   "execution_count": 11,
   "metadata": {},
   "outputs": [
    {
     "data": {
      "text/html": [
       "<div>\n",
       "<style scoped>\n",
       "    .dataframe tbody tr th:only-of-type {\n",
       "        vertical-align: middle;\n",
       "    }\n",
       "\n",
       "    .dataframe tbody tr th {\n",
       "        vertical-align: top;\n",
       "    }\n",
       "\n",
       "    .dataframe thead th {\n",
       "        text-align: right;\n",
       "    }\n",
       "</style>\n",
       "<table border=\"1\" class=\"dataframe\">\n",
       "  <thead>\n",
       "    <tr style=\"text-align: right;\">\n",
       "      <th></th>\n",
       "      <th>type</th>\n",
       "      <th>title</th>\n",
       "      <th>director</th>\n",
       "      <th>cast</th>\n",
       "      <th>country</th>\n",
       "      <th>date_added</th>\n",
       "      <th>release_year</th>\n",
       "      <th>rating</th>\n",
       "      <th>duration</th>\n",
       "      <th>genre</th>\n",
       "      <th>month_added</th>\n",
       "      <th>month_name_added</th>\n",
       "      <th>year_added</th>\n",
       "    </tr>\n",
       "  </thead>\n",
       "  <tbody>\n",
       "    <tr>\n",
       "      <th>0</th>\n",
       "      <td>Movie</td>\n",
       "      <td>Dick Johnson Is Dead</td>\n",
       "      <td>Kirsten Johnson</td>\n",
       "      <td>Unknown</td>\n",
       "      <td>United States</td>\n",
       "      <td>2021-09-25</td>\n",
       "      <td>2020</td>\n",
       "      <td>PG-13</td>\n",
       "      <td>90 min</td>\n",
       "      <td>Documentaries</td>\n",
       "      <td>9</td>\n",
       "      <td>September</td>\n",
       "      <td>2021</td>\n",
       "    </tr>\n",
       "    <tr>\n",
       "      <th>1</th>\n",
       "      <td>TV Show</td>\n",
       "      <td>Blood &amp; Water</td>\n",
       "      <td>Unknown</td>\n",
       "      <td>Ama Qamata, Khosi Ngema, Gail Mabalane, Thaban...</td>\n",
       "      <td>South Africa</td>\n",
       "      <td>2021-09-24</td>\n",
       "      <td>2021</td>\n",
       "      <td>TV-MA</td>\n",
       "      <td>2 Seasons</td>\n",
       "      <td>International TV Shows, TV Dramas, TV Mysteries</td>\n",
       "      <td>9</td>\n",
       "      <td>September</td>\n",
       "      <td>2021</td>\n",
       "    </tr>\n",
       "    <tr>\n",
       "      <th>2</th>\n",
       "      <td>TV Show</td>\n",
       "      <td>Ganglands</td>\n",
       "      <td>Julien Leclercq</td>\n",
       "      <td>Sami Bouajila, Tracy Gotoas, Samuel Jouy, Nabi...</td>\n",
       "      <td>Unknown</td>\n",
       "      <td>2021-09-24</td>\n",
       "      <td>2021</td>\n",
       "      <td>TV-MA</td>\n",
       "      <td>1 Season</td>\n",
       "      <td>Crime TV Shows, International TV Shows, TV Act...</td>\n",
       "      <td>9</td>\n",
       "      <td>September</td>\n",
       "      <td>2021</td>\n",
       "    </tr>\n",
       "    <tr>\n",
       "      <th>3</th>\n",
       "      <td>TV Show</td>\n",
       "      <td>Jailbirds New Orleans</td>\n",
       "      <td>Unknown</td>\n",
       "      <td>Unknown</td>\n",
       "      <td>Unknown</td>\n",
       "      <td>2021-09-24</td>\n",
       "      <td>2021</td>\n",
       "      <td>TV-MA</td>\n",
       "      <td>1 Season</td>\n",
       "      <td>Docuseries, Reality TV</td>\n",
       "      <td>9</td>\n",
       "      <td>September</td>\n",
       "      <td>2021</td>\n",
       "    </tr>\n",
       "    <tr>\n",
       "      <th>4</th>\n",
       "      <td>TV Show</td>\n",
       "      <td>Kota Factory</td>\n",
       "      <td>Unknown</td>\n",
       "      <td>Mayur More, Jitendra Kumar, Ranjan Raj, Alam K...</td>\n",
       "      <td>India</td>\n",
       "      <td>2021-09-24</td>\n",
       "      <td>2021</td>\n",
       "      <td>TV-MA</td>\n",
       "      <td>2 Seasons</td>\n",
       "      <td>International TV Shows, Romantic TV Shows, TV ...</td>\n",
       "      <td>9</td>\n",
       "      <td>September</td>\n",
       "      <td>2021</td>\n",
       "    </tr>\n",
       "  </tbody>\n",
       "</table>\n",
       "</div>"
      ],
      "text/plain": [
       "      type                  title         director  \\\n",
       "0    Movie   Dick Johnson Is Dead  Kirsten Johnson   \n",
       "1  TV Show          Blood & Water          Unknown   \n",
       "2  TV Show              Ganglands  Julien Leclercq   \n",
       "3  TV Show  Jailbirds New Orleans          Unknown   \n",
       "4  TV Show           Kota Factory          Unknown   \n",
       "\n",
       "                                                cast        country  \\\n",
       "0                                            Unknown  United States   \n",
       "1  Ama Qamata, Khosi Ngema, Gail Mabalane, Thaban...   South Africa   \n",
       "2  Sami Bouajila, Tracy Gotoas, Samuel Jouy, Nabi...        Unknown   \n",
       "3                                            Unknown        Unknown   \n",
       "4  Mayur More, Jitendra Kumar, Ranjan Raj, Alam K...          India   \n",
       "\n",
       "  date_added  release_year rating   duration  \\\n",
       "0 2021-09-25          2020  PG-13     90 min   \n",
       "1 2021-09-24          2021  TV-MA  2 Seasons   \n",
       "2 2021-09-24          2021  TV-MA   1 Season   \n",
       "3 2021-09-24          2021  TV-MA   1 Season   \n",
       "4 2021-09-24          2021  TV-MA  2 Seasons   \n",
       "\n",
       "                                               genre  month_added  \\\n",
       "0                                      Documentaries            9   \n",
       "1    International TV Shows, TV Dramas, TV Mysteries            9   \n",
       "2  Crime TV Shows, International TV Shows, TV Act...            9   \n",
       "3                             Docuseries, Reality TV            9   \n",
       "4  International TV Shows, Romantic TV Shows, TV ...            9   \n",
       "\n",
       "  month_name_added  year_added  \n",
       "0        September        2021  \n",
       "1        September        2021  \n",
       "2        September        2021  \n",
       "3        September        2021  \n",
       "4        September        2021  "
      ]
     },
     "execution_count": 11,
     "metadata": {},
     "output_type": "execute_result"
    }
   ],
   "source": [
    "df = df.rename(columns={'listed_in': 'genre'}) # Rename column\n",
    "df.head()"
   ]
  },
  {
   "cell_type": "code",
   "execution_count": 12,
   "metadata": {},
   "outputs": [
    {
     "name": "stdout",
     "output_type": "stream",
     "text": [
      "Duration format analysis:\n",
      "\n",
      "Movie duration samples:\n",
      "['90 min', '91 min', '125 min', '104 min', '127 min', '91 min', '67 min', '94 min', '161 min', '61 min']\n",
      "\n",
      "TV Show duration samples:\n",
      "['2 Seasons', '1 Season', '1 Season', '2 Seasons', '1 Season', '9 Seasons', '1 Season', '1 Season', '1 Season', '4 Seasons']\n",
      "\n",
      "Unique duration patterns:\n",
      "Total unique duration values: 220\n",
      "First 15 unique duration values:\n",
      "['90 min' '2 Seasons' '1 Season' '91 min' '125 min' '9 Seasons' '104 min'\n",
      " '127 min' '4 Seasons' '67 min' '94 min' '5 Seasons' '161 min' '61 min'\n",
      " '166 min']\n",
      "\n",
      "Checking for unusual duration patterns:\n",
      "All duration patterns look normal (contain 'min' or 'Season')\n"
     ]
    }
   ],
   "source": [
    "# Analyse duration formats and potential data issues\n",
    "# Copilot came up with this code\n",
    "print(\"Duration format analysis:\")\n",
    "print(\"\\nMovie duration samples:\")\n",
    "movie_durations = df[df['type'] == 'Movie']['duration'].dropna()\n",
    "print(movie_durations.head(10).tolist())\n",
    "\n",
    "print(\"\\nTV Show duration samples:\")\n",
    "tv_durations = df[df['type'] == 'TV Show']['duration'].dropna()\n",
    "print(tv_durations.head(10).tolist())\n",
    "\n",
    "print(\"\\nUnique duration patterns:\")\n",
    "unique_durations = df['duration'].dropna().unique()\n",
    "print(f\"Total unique duration values: {len(unique_durations)}\")\n",
    "print(\"First 15 unique duration values:\")\n",
    "print(unique_durations[:15])\n",
    "\n",
    "# Check for any unusual patterns\n",
    "# Copilot came up with this code\n",
    "print(\"\\nChecking for unusual duration patterns:\")\n",
    "unusual_durations = [d for d in unique_durations if not any(x in str(d) for x in ['min', 'Season'])]\n",
    "if unusual_durations:\n",
    "    print(\"Unusual duration patterns found:\", unusual_durations)\n",
    "else:\n",
    "    print(\"All duration patterns look normal (contain 'min' or 'Season')\")"
   ]
  },
  {
   "cell_type": "markdown",
   "metadata": {},
   "source": [
    "---"
   ]
  },
  {
   "cell_type": "markdown",
   "metadata": {},
   "source": [
    "# Section 3 – Data Visualisation\n",
    "\n",
    "This section presents visual analyses of the Netflix Shows dataset to uncover patterns and insights related to content trends, types, geography, and genres. By employing a variety of graphical techniques using Python libraries such as Matplotlib, Seaborn, and Plotly, we aim to make the data more accessible and interpretable.\n",
    "\n",
    "The visualisations will help validate our hypotheses by revealing temporal trends, comparing different content types, highlighting key countries contributing to Netflix's library, and showcasing the most popular genres. Through these graphical representations, complex data becomes clearer, aiding decision-making and deeper understanding.\n"
   ]
  },
  {
   "cell_type": "code",
   "execution_count": 13,
   "metadata": {},
   "outputs": [
    {
     "data": {
      "application/vnd.plotly.v1+json": {
       "config": {
        "plotlyServerURL": "https://plot.ly"
       },
       "data": [
        {
         "customdata": [
          [
           "Movie"
          ],
          [
           "TV Show"
          ]
         ],
         "domain": {
          "x": [
           0,
           1
          ],
          "y": [
           0,
           1
          ]
         },
         "hovertemplate": "label=%{label}<br>value=%{value}<br>color=%{customdata[0]}<extra></extra>",
         "labels": [
          "Movie",
          "TV Show"
         ],
         "legendgroup": "",
         "marker": {
          "colors": [
           "#e64b30",
           "#4d3130"
          ]
         },
         "name": "",
         "showlegend": true,
         "type": "pie",
         "values": {
          "bdata": "8xdqCg==",
          "dtype": "i2"
         }
        }
       ],
       "layout": {
        "legend": {
         "tracegroupgap": 0
        },
        "template": {
         "data": {
          "bar": [
           {
            "error_x": {
             "color": "#2a3f5f"
            },
            "error_y": {
             "color": "#2a3f5f"
            },
            "marker": {
             "line": {
              "color": "#E5ECF6",
              "width": 0.5
             },
             "pattern": {
              "fillmode": "overlay",
              "size": 10,
              "solidity": 0.2
             }
            },
            "type": "bar"
           }
          ],
          "barpolar": [
           {
            "marker": {
             "line": {
              "color": "#E5ECF6",
              "width": 0.5
             },
             "pattern": {
              "fillmode": "overlay",
              "size": 10,
              "solidity": 0.2
             }
            },
            "type": "barpolar"
           }
          ],
          "carpet": [
           {
            "aaxis": {
             "endlinecolor": "#2a3f5f",
             "gridcolor": "white",
             "linecolor": "white",
             "minorgridcolor": "white",
             "startlinecolor": "#2a3f5f"
            },
            "baxis": {
             "endlinecolor": "#2a3f5f",
             "gridcolor": "white",
             "linecolor": "white",
             "minorgridcolor": "white",
             "startlinecolor": "#2a3f5f"
            },
            "type": "carpet"
           }
          ],
          "choropleth": [
           {
            "colorbar": {
             "outlinewidth": 0,
             "ticks": ""
            },
            "type": "choropleth"
           }
          ],
          "contour": [
           {
            "colorbar": {
             "outlinewidth": 0,
             "ticks": ""
            },
            "colorscale": [
             [
              0,
              "#0d0887"
             ],
             [
              0.1111111111111111,
              "#46039f"
             ],
             [
              0.2222222222222222,
              "#7201a8"
             ],
             [
              0.3333333333333333,
              "#9c179e"
             ],
             [
              0.4444444444444444,
              "#bd3786"
             ],
             [
              0.5555555555555556,
              "#d8576b"
             ],
             [
              0.6666666666666666,
              "#ed7953"
             ],
             [
              0.7777777777777778,
              "#fb9f3a"
             ],
             [
              0.8888888888888888,
              "#fdca26"
             ],
             [
              1,
              "#f0f921"
             ]
            ],
            "type": "contour"
           }
          ],
          "contourcarpet": [
           {
            "colorbar": {
             "outlinewidth": 0,
             "ticks": ""
            },
            "type": "contourcarpet"
           }
          ],
          "heatmap": [
           {
            "colorbar": {
             "outlinewidth": 0,
             "ticks": ""
            },
            "colorscale": [
             [
              0,
              "#0d0887"
             ],
             [
              0.1111111111111111,
              "#46039f"
             ],
             [
              0.2222222222222222,
              "#7201a8"
             ],
             [
              0.3333333333333333,
              "#9c179e"
             ],
             [
              0.4444444444444444,
              "#bd3786"
             ],
             [
              0.5555555555555556,
              "#d8576b"
             ],
             [
              0.6666666666666666,
              "#ed7953"
             ],
             [
              0.7777777777777778,
              "#fb9f3a"
             ],
             [
              0.8888888888888888,
              "#fdca26"
             ],
             [
              1,
              "#f0f921"
             ]
            ],
            "type": "heatmap"
           }
          ],
          "histogram": [
           {
            "marker": {
             "pattern": {
              "fillmode": "overlay",
              "size": 10,
              "solidity": 0.2
             }
            },
            "type": "histogram"
           }
          ],
          "histogram2d": [
           {
            "colorbar": {
             "outlinewidth": 0,
             "ticks": ""
            },
            "colorscale": [
             [
              0,
              "#0d0887"
             ],
             [
              0.1111111111111111,
              "#46039f"
             ],
             [
              0.2222222222222222,
              "#7201a8"
             ],
             [
              0.3333333333333333,
              "#9c179e"
             ],
             [
              0.4444444444444444,
              "#bd3786"
             ],
             [
              0.5555555555555556,
              "#d8576b"
             ],
             [
              0.6666666666666666,
              "#ed7953"
             ],
             [
              0.7777777777777778,
              "#fb9f3a"
             ],
             [
              0.8888888888888888,
              "#fdca26"
             ],
             [
              1,
              "#f0f921"
             ]
            ],
            "type": "histogram2d"
           }
          ],
          "histogram2dcontour": [
           {
            "colorbar": {
             "outlinewidth": 0,
             "ticks": ""
            },
            "colorscale": [
             [
              0,
              "#0d0887"
             ],
             [
              0.1111111111111111,
              "#46039f"
             ],
             [
              0.2222222222222222,
              "#7201a8"
             ],
             [
              0.3333333333333333,
              "#9c179e"
             ],
             [
              0.4444444444444444,
              "#bd3786"
             ],
             [
              0.5555555555555556,
              "#d8576b"
             ],
             [
              0.6666666666666666,
              "#ed7953"
             ],
             [
              0.7777777777777778,
              "#fb9f3a"
             ],
             [
              0.8888888888888888,
              "#fdca26"
             ],
             [
              1,
              "#f0f921"
             ]
            ],
            "type": "histogram2dcontour"
           }
          ],
          "mesh3d": [
           {
            "colorbar": {
             "outlinewidth": 0,
             "ticks": ""
            },
            "type": "mesh3d"
           }
          ],
          "parcoords": [
           {
            "line": {
             "colorbar": {
              "outlinewidth": 0,
              "ticks": ""
             }
            },
            "type": "parcoords"
           }
          ],
          "pie": [
           {
            "automargin": true,
            "type": "pie"
           }
          ],
          "scatter": [
           {
            "fillpattern": {
             "fillmode": "overlay",
             "size": 10,
             "solidity": 0.2
            },
            "type": "scatter"
           }
          ],
          "scatter3d": [
           {
            "line": {
             "colorbar": {
              "outlinewidth": 0,
              "ticks": ""
             }
            },
            "marker": {
             "colorbar": {
              "outlinewidth": 0,
              "ticks": ""
             }
            },
            "type": "scatter3d"
           }
          ],
          "scattercarpet": [
           {
            "marker": {
             "colorbar": {
              "outlinewidth": 0,
              "ticks": ""
             }
            },
            "type": "scattercarpet"
           }
          ],
          "scattergeo": [
           {
            "marker": {
             "colorbar": {
              "outlinewidth": 0,
              "ticks": ""
             }
            },
            "type": "scattergeo"
           }
          ],
          "scattergl": [
           {
            "marker": {
             "colorbar": {
              "outlinewidth": 0,
              "ticks": ""
             }
            },
            "type": "scattergl"
           }
          ],
          "scattermap": [
           {
            "marker": {
             "colorbar": {
              "outlinewidth": 0,
              "ticks": ""
             }
            },
            "type": "scattermap"
           }
          ],
          "scattermapbox": [
           {
            "marker": {
             "colorbar": {
              "outlinewidth": 0,
              "ticks": ""
             }
            },
            "type": "scattermapbox"
           }
          ],
          "scatterpolar": [
           {
            "marker": {
             "colorbar": {
              "outlinewidth": 0,
              "ticks": ""
             }
            },
            "type": "scatterpolar"
           }
          ],
          "scatterpolargl": [
           {
            "marker": {
             "colorbar": {
              "outlinewidth": 0,
              "ticks": ""
             }
            },
            "type": "scatterpolargl"
           }
          ],
          "scatterternary": [
           {
            "marker": {
             "colorbar": {
              "outlinewidth": 0,
              "ticks": ""
             }
            },
            "type": "scatterternary"
           }
          ],
          "surface": [
           {
            "colorbar": {
             "outlinewidth": 0,
             "ticks": ""
            },
            "colorscale": [
             [
              0,
              "#0d0887"
             ],
             [
              0.1111111111111111,
              "#46039f"
             ],
             [
              0.2222222222222222,
              "#7201a8"
             ],
             [
              0.3333333333333333,
              "#9c179e"
             ],
             [
              0.4444444444444444,
              "#bd3786"
             ],
             [
              0.5555555555555556,
              "#d8576b"
             ],
             [
              0.6666666666666666,
              "#ed7953"
             ],
             [
              0.7777777777777778,
              "#fb9f3a"
             ],
             [
              0.8888888888888888,
              "#fdca26"
             ],
             [
              1,
              "#f0f921"
             ]
            ],
            "type": "surface"
           }
          ],
          "table": [
           {
            "cells": {
             "fill": {
              "color": "#EBF0F8"
             },
             "line": {
              "color": "white"
             }
            },
            "header": {
             "fill": {
              "color": "#C8D4E3"
             },
             "line": {
              "color": "white"
             }
            },
            "type": "table"
           }
          ]
         },
         "layout": {
          "annotationdefaults": {
           "arrowcolor": "#2a3f5f",
           "arrowhead": 0,
           "arrowwidth": 1
          },
          "autotypenumbers": "strict",
          "coloraxis": {
           "colorbar": {
            "outlinewidth": 0,
            "ticks": ""
           }
          },
          "colorscale": {
           "diverging": [
            [
             0,
             "#8e0152"
            ],
            [
             0.1,
             "#c51b7d"
            ],
            [
             0.2,
             "#de77ae"
            ],
            [
             0.3,
             "#f1b6da"
            ],
            [
             0.4,
             "#fde0ef"
            ],
            [
             0.5,
             "#f7f7f7"
            ],
            [
             0.6,
             "#e6f5d0"
            ],
            [
             0.7,
             "#b8e186"
            ],
            [
             0.8,
             "#7fbc41"
            ],
            [
             0.9,
             "#4d9221"
            ],
            [
             1,
             "#276419"
            ]
           ],
           "sequential": [
            [
             0,
             "#0d0887"
            ],
            [
             0.1111111111111111,
             "#46039f"
            ],
            [
             0.2222222222222222,
             "#7201a8"
            ],
            [
             0.3333333333333333,
             "#9c179e"
            ],
            [
             0.4444444444444444,
             "#bd3786"
            ],
            [
             0.5555555555555556,
             "#d8576b"
            ],
            [
             0.6666666666666666,
             "#ed7953"
            ],
            [
             0.7777777777777778,
             "#fb9f3a"
            ],
            [
             0.8888888888888888,
             "#fdca26"
            ],
            [
             1,
             "#f0f921"
            ]
           ],
           "sequentialminus": [
            [
             0,
             "#0d0887"
            ],
            [
             0.1111111111111111,
             "#46039f"
            ],
            [
             0.2222222222222222,
             "#7201a8"
            ],
            [
             0.3333333333333333,
             "#9c179e"
            ],
            [
             0.4444444444444444,
             "#bd3786"
            ],
            [
             0.5555555555555556,
             "#d8576b"
            ],
            [
             0.6666666666666666,
             "#ed7953"
            ],
            [
             0.7777777777777778,
             "#fb9f3a"
            ],
            [
             0.8888888888888888,
             "#fdca26"
            ],
            [
             1,
             "#f0f921"
            ]
           ]
          },
          "colorway": [
           "#636efa",
           "#EF553B",
           "#00cc96",
           "#ab63fa",
           "#FFA15A",
           "#19d3f3",
           "#FF6692",
           "#B6E880",
           "#FF97FF",
           "#FECB52"
          ],
          "font": {
           "color": "#2a3f5f"
          },
          "geo": {
           "bgcolor": "white",
           "lakecolor": "white",
           "landcolor": "#E5ECF6",
           "showlakes": true,
           "showland": true,
           "subunitcolor": "white"
          },
          "hoverlabel": {
           "align": "left"
          },
          "hovermode": "closest",
          "mapbox": {
           "style": "light"
          },
          "paper_bgcolor": "white",
          "plot_bgcolor": "#E5ECF6",
          "polar": {
           "angularaxis": {
            "gridcolor": "white",
            "linecolor": "white",
            "ticks": ""
           },
           "bgcolor": "#E5ECF6",
           "radialaxis": {
            "gridcolor": "white",
            "linecolor": "white",
            "ticks": ""
           }
          },
          "scene": {
           "xaxis": {
            "backgroundcolor": "#E5ECF6",
            "gridcolor": "white",
            "gridwidth": 2,
            "linecolor": "white",
            "showbackground": true,
            "ticks": "",
            "zerolinecolor": "white"
           },
           "yaxis": {
            "backgroundcolor": "#E5ECF6",
            "gridcolor": "white",
            "gridwidth": 2,
            "linecolor": "white",
            "showbackground": true,
            "ticks": "",
            "zerolinecolor": "white"
           },
           "zaxis": {
            "backgroundcolor": "#E5ECF6",
            "gridcolor": "white",
            "gridwidth": 2,
            "linecolor": "white",
            "showbackground": true,
            "ticks": "",
            "zerolinecolor": "white"
           }
          },
          "shapedefaults": {
           "line": {
            "color": "#2a3f5f"
           }
          },
          "ternary": {
           "aaxis": {
            "gridcolor": "white",
            "linecolor": "white",
            "ticks": ""
           },
           "baxis": {
            "gridcolor": "white",
            "linecolor": "white",
            "ticks": ""
           },
           "bgcolor": "#E5ECF6",
           "caxis": {
            "gridcolor": "white",
            "linecolor": "white",
            "ticks": ""
           }
          },
          "title": {
           "x": 0.05
          },
          "xaxis": {
           "automargin": true,
           "gridcolor": "white",
           "linecolor": "white",
           "ticks": "",
           "title": {
            "standoff": 15
           },
           "zerolinecolor": "white",
           "zerolinewidth": 2
          },
          "yaxis": {
           "automargin": true,
           "gridcolor": "white",
           "linecolor": "white",
           "ticks": "",
           "title": {
            "standoff": 15
           },
           "zerolinecolor": "white",
           "zerolinewidth": 2
          }
         }
        },
        "title": {
         "text": "Content Type Distribution on Netflix"
        }
       }
      }
     },
     "metadata": {},
     "output_type": "display_data"
    }
   ],
   "source": [
    "# Count content types\n",
    "type_counts = df['type'].value_counts()\n",
    "\n",
    "# Create pie chart\n",
    "fig = px.pie(\n",
    "    names=type_counts.index,\n",
    "    values=type_counts.values,\n",
    "    color=type_counts.index,\n",
    "    color_discrete_map={\"Movie\": \"#e64b30\", \"TV Show\": \"#4d3130\"},\n",
    "    title=\"Content Type Distribution on Netflix\"\n",
    ")\n",
    "\n",
    "fig.show()"
   ]
  },
  {
   "cell_type": "markdown",
   "metadata": {},
   "source": [
    "Content Type Distribution on Netflix\n",
    "This pie chart shows the breakdown of Netflix content by type: Movies and TV Shows. It reveals that Movies make up the larger portion of the catalogue compared to TV Shows. This suggests that Netflix has historically focused more on acquiring or producing movies, although TV Shows still represent a significant part of the library. Understanding this balance helps us see the overall content strategy and viewer options available on the platform."
   ]
  },
  {
   "cell_type": "markdown",
   "metadata": {},
   "source": [
    "### Hypothesis 1: Content Added by Month and Year (Trend)\n",
    "\n",
    "*The total amount of content added on Netflix varies over time, showing identifiable trends by month and year.*\n",
    "\n",
    "**Validation:**  \n",
    "- Use the existing `month_name_added`, and `year_added` columns.  \n",
    "- Aggregate counts of shows added by month (using month names) and year.  \n",
    "- Use Seaborn line plots to visualise trends over months and years, highlighting both seasonal patterns and long-term growth."
   ]
  },
  {
   "cell_type": "code",
   "execution_count": 14,
   "metadata": {},
   "outputs": [
    {
     "data": {
      "image/png": "[encoded data removed]",
      "text/plain": [
       "<Figure size 1000x600 with 1 Axes>"
      ]
     },
     "metadata": {},
     "output_type": "display_data"
    },
    {
     "data": {
      "image/png": "[encoded data removed]",
      "text/plain": [
       "<Figure size 1000x600 with 1 Axes>"
      ]
     },
     "metadata": {},
     "output_type": "display_data"
    }
   ],
   "source": [
    "# Aggregate counts by month name and year\n",
    "months_order = ['January', 'February', 'March', 'April', 'May', 'June',\n",
    "                'July', 'August', 'September', 'October', 'November', 'December']\n",
    "\n",
    "monthly_counts_by_name = df.dropna(subset=['month_name_added']).groupby('month_name_added').size()\n",
    "monthly_counts_by_name = monthly_counts_by_name.reindex(months_order)\n",
    "\n",
    "yearly_counts = df.dropna(subset=['year_added']).groupby('year_added').size()\n",
    "\n",
    "# Plot monthly trend with month names\n",
    "plt.figure(figsize=(10,6))\n",
    "sns.lineplot(x=monthly_counts_by_name.index, y=monthly_counts_by_name.values, marker='o')\n",
    "plt.title('Number of Shows Added by Month')\n",
    "plt.xlabel('Month')\n",
    "plt.ylabel('Number of Shows Added')\n",
    "plt.xticks(rotation=45)\n",
    "plt.show()\n",
    "\n",
    "# Plot yearly trend\n",
    "plt.figure(figsize=(10,6))\n",
    "sns.lineplot(x=yearly_counts.index, y=yearly_counts.values, marker='o')\n",
    "plt.title('Number of Shows Added by Year')\n",
    "plt.xlabel('Year')\n",
    "plt.ylabel('Number of Shows Added')\n",
    "plt.show()\n",
    "\n"
   ]
  },
  {
   "cell_type": "markdown",
   "metadata": {},
   "source": [
    "### Insights from Hypothesis 1: Content Added Over Time\n",
    "\n",
    "The analysis looked at how many new titles were added to Netflix each month and each year. The line charts show clear patterns in the data:\n",
    "\n",
    "- **Monthly Trends:** Certain months, such as July and December, have notably higher numbers of titles added, possibly linked to holiday seasons or special promotions. February tends to have fewer additions.\n",
    "- **Yearly Trends:** There is a steady increase in content added from earlier years up to around 2018-2019, showing Netflix’s expansion in content acquisition or production. After this peak, the number of new titles added each year shows a slight decline, which could reflect changes in strategy or market conditions.\n",
    "\n",
    "These trends help us understand when Netflix most actively grows its library and reveal possible seasonal or business cycle influences on content release."
   ]
  },
  {
   "cell_type": "markdown",
   "metadata": {},
   "source": [
    "### Hypothesis 2: Compare Movies vs TV Programmes Growth  \n",
    "\n",
    "*The number of movies and TV programmes added to Netflix grows at different rates over the years.*\n",
    "\n",
    "**Validation:**  \n",
    "- Extract the year from the `date_added` column.  \n",
    "- Group data by content type (`Movie` or `TV Show`) and year added.  \n",
    "- Use a **Matplotlib line chart** to compare yearly counts of movies and TV programmes."
   ]
  },
  {
   "cell_type": "code",
   "execution_count": 15,
   "metadata": {},
   "outputs": [
    {
     "data": {
      "image/png": "[encoded data removed]",
      "text/plain": [
       "<Figure size 1200x600 with 1 Axes>"
      ]
     },
     "metadata": {},
     "output_type": "display_data"
    }
   ],
   "source": [
    "# Group data by 'type' and 'year_added' and count entries\n",
    "yearly_counts = df.groupby(['type', 'year_added']).size().reset_index(name='count')\n",
    "\n",
    "# Pivot the data so we have years as x-axis and types as columns\n",
    "pivot_counts = yearly_counts.pivot(index='year_added', columns='type', values='count').fillna(0)\n",
    "\n",
    "# Plotting with Matplotlib\n",
    "plt.figure(figsize=(12,6))\n",
    "plt.plot(pivot_counts.index, pivot_counts['Movie'], marker='o', label='Movies')\n",
    "plt.plot(pivot_counts.index, pivot_counts['TV Show'], marker='o', label='TV Programmes')\n",
    "\n",
    "plt.title('Yearly Growth of Movies vs TV Programmes on Netflix')\n",
    "plt.xlabel('Year Added')\n",
    "plt.ylabel('Number of Titles Added')\n",
    "plt.legend()\n",
    "plt.xticks(rotation=45)\n",
    "plt.grid(True)\n",
    "plt.tight_layout()\n",
    "plt.show()"
   ]
  },
  {
   "cell_type": "markdown",
   "metadata": {},
   "source": [
    "### Insights from Hypothesis 2: Growth of Movies vs TV Programmes\n",
    "\n",
    "The yearly growth trends of movies and TV programmes on Netflix show clear differences:\n",
    "\n",
    "- Movies have generally been added in larger numbers compared to TV programmes each year.\n",
    "- There was a steady increase in both movies and TV shows from the early years up until around 2018-2019.\n",
    "- Movies saw a notable surge in additions between 2016 and 2019, peaking before experiencing a decline from 2020 onwards.\n",
    "- TV programmes also grew but at a slower, more consistent rate; however, they too experienced a decrease in new titles after 2019.\n",
    "- This decline in recent years might be linked to external factors like changes in production schedules, global events affecting filming (e.g., the COVID-19 pandemic), or a strategic shift in content acquisition by Netflix.\n",
    "- The data suggests Netflix prioritised expanding its movie catalogue earlier, with a more balanced approach or reduced output for both content types more recently.\n",
    "\n",
    "The line plot clearly visualises these trends, helping to understand how content strategy and market conditions impact Netflix's evolving library."
   ]
  },
  {
   "cell_type": "markdown",
   "metadata": {},
   "source": [
    "### Hypothesis 3: Top Countries by Content Count  \n",
    "*Certain countries contribute significantly more content to Netflix's library.*\n",
    "\n",
    "**Validation:**  \n",
    "- Extract and split countries from the `country` column (which may contain multiple countries per entry).  \n",
    "- Count the total number of titles per country.  \n",
    "- Visualise the distribution on a Plotly choropleth world map and a horizontal bar chart showing the top 15 contributing countries."
   ]
  },
  {
   "cell_type": "code",
   "execution_count": 16,
   "metadata": {},
   "outputs": [
    {
     "data": {
      "application/vnd.plotly.v1+json": {
       "config": {
        "linkText": "Export to plot.ly",
        "plotlyServerURL": "https://plot.ly",
        "showLink": false
       },
       "data": [
        {
         "autocolorscale": false,
         "colorbar": {
          "autotick": false,
          "title": "Number of Titles"
         },
         "colorscale": "Reds",
         "locations": [
          "USA",
          "ZAF",
          "IND",
          "GHA",
          "BFA",
          "GBR",
          "DEU",
          "ETH",
          "CZE",
          "MEX",
          "TUR",
          "AUS",
          "FRA",
          "FIN",
          "CHN",
          "CAN",
          "JPN",
          "NGA",
          "ESP",
          "BEL",
          "KOR",
          "SGP",
          "ITA",
          "ROU",
          "ARG",
          "VEN",
          "HKG",
          "RUS",
          "IRL",
          "NPL",
          "NZL",
          "BRA",
          "GRC",
          "JOR",
          "COL",
          "CHE",
          "ISR",
          "TWN",
          "BGR",
          "DZA",
          "POL",
          "SAU",
          "THA",
          "IDN",
          "EGY",
          "DNK",
          "KWT",
          "NLD",
          "MYS",
          "VNM",
          "HUN",
          "SWE",
          "LBN",
          "SYR",
          "PHL",
          "ISL",
          "ARE",
          "NOR",
          "QAT",
          "MUS",
          "AUT",
          "CMR",
          "URY",
          "KEN",
          "CHL",
          "LUX",
          "KHM",
          "BGD",
          "PRT",
          "CYM",
          "SEN",
          "SRB",
          "MLT",
          "NAM",
          "AGO",
          "PER",
          "MOZ",
          "BLR",
          "ZWE",
          "PRI",
          "PAK",
          "CYP",
          "GTM",
          "IRQ",
          "MWI",
          "PRY",
          "HRV",
          "IRN",
          "ALB",
          "GEO",
          "MAR",
          "SVK",
          "UKR",
          "BMU",
          "ECU",
          "ARM",
          "MNG",
          "BHM",
          "LKA",
          "LVA",
          "LIE",
          "CUB",
          "NIC",
          "SVN",
          "DOM",
          "WSM",
          "AZE",
          "BWA",
          "JAM",
          "KAZ",
          "LTU",
          "AFG",
          "SOM",
          "SDN",
          "PAN",
          "UGA",
          "MNE"
         ],
         "marker": {
          "line": {
           "color": "gray",
           "width": 0.5
          }
         },
         "reversescale": false,
         "type": "choropleth",
         "z": [
          3683,
          62,
          1046,
          5,
          1,
          803,
          226,
          1,
          22,
          169,
          113,
          159,
          393,
          11,
          162,
          445,
          317,
          103,
          232,
          90,
          231,
          41,
          100,
          14,
          91,
          4,
          105,
          27,
          46,
          2,
          33,
          97,
          11,
          9,
          52,
          19,
          30,
          89,
          10,
          3,
          40,
          13,
          70,
          90,
          117,
          48,
          8,
          50,
          26,
          7,
          11,
          42,
          31,
          3,
          83,
          11,
          37,
          30,
          10,
          2,
          12,
          1,
          14,
          6,
          29,
          12,
          5,
          4,
          6,
          2,
          3,
          7,
          3,
          2,
          1,
          10,
          1,
          1,
          3,
          1,
          24,
          1,
          2,
          2,
          1,
          1,
          4,
          4,
          1,
          2,
          6,
          1,
          3,
          1,
          1,
          1,
          1,
          1,
          1,
          1,
          1,
          1,
          1,
          3,
          1,
          1,
          1,
          1,
          1,
          1,
          1,
          1,
          1,
          1,
          1,
          1,
          1
         ]
        }
       ],
       "layout": {
        "geo": {
         "projection": {
          "type": "Mercator"
         },
         "showcoastlines": false,
         "showframe": false
        },
        "title": "Netflix Content Distribution by Country"
       }
      }
     },
     "metadata": {},
     "output_type": "display_data"
    },
    {
     "data": {
      "application/vnd.plotly.v1+json": {
       "config": {
        "plotlyServerURL": "https://plot.ly"
       },
       "data": [
        {
         "hovertemplate": "Number of Titles=%{x}<br>Country=%{y}<br>color=%{marker.color}<extra></extra>",
         "legendgroup": "",
         "marker": {
          "color": {
           "bdata": "ZA4WBD4DJQO9AYkBPQHoAOcA4gCpAKIAnwB1AHEA",
           "dtype": "i2"
          },
          "coloraxis": "coloraxis",
          "pattern": {
           "shape": ""
          }
         },
         "name": "",
         "orientation": "h",
         "showlegend": false,
         "textposition": "auto",
         "type": "bar",
         "x": {
          "bdata": "ZA4WBD4DJQO9AYkBPQHoAOcA4gCpAKIAnwB1AHEA",
          "dtype": "i2"
         },
         "xaxis": "x",
         "y": [
          "United States",
          "India",
          "Unknown",
          "United Kingdom",
          "Canada",
          "France",
          "Japan",
          "Spain",
          "South Korea",
          "Germany",
          "Mexico",
          "China",
          "Australia",
          "Egypt",
          "Turkey"
         ],
         "yaxis": "y"
        }
       ],
       "layout": {
        "barmode": "relative",
        "coloraxis": {
         "colorbar": {
          "title": {
           "text": "color"
          }
         },
         "colorscale": [
          [
           0,
           "rgb(255,245,240)"
          ],
          [
           0.125,
           "rgb(254,224,210)"
          ],
          [
           0.25,
           "rgb(252,187,161)"
          ],
          [
           0.375,
           "rgb(252,146,114)"
          ],
          [
           0.5,
           "rgb(251,106,74)"
          ],
          [
           0.625,
           "rgb(239,59,44)"
          ],
          [
           0.75,
           "rgb(203,24,29)"
          ],
          [
           0.875,
           "rgb(165,15,21)"
          ],
          [
           1,
           "rgb(103,0,13)"
          ]
         ]
        },
        "height": 600,
        "legend": {
         "tracegroupgap": 0
        },
        "showlegend": false,
        "template": {
         "data": {
          "bar": [
           {
            "error_x": {
             "color": "#2a3f5f"
            },
            "error_y": {
             "color": "#2a3f5f"
            },
            "marker": {
             "line": {
              "color": "#E5ECF6",
              "width": 0.5
             },
             "pattern": {
              "fillmode": "overlay",
              "size": 10,
              "solidity": 0.2
             }
            },
            "type": "bar"
           }
          ],
          "barpolar": [
           {
            "marker": {
             "line": {
              "color": "#E5ECF6",
              "width": 0.5
             },
             "pattern": {
              "fillmode": "overlay",
              "size": 10,
              "solidity": 0.2
             }
            },
            "type": "barpolar"
           }
          ],
          "carpet": [
           {
            "aaxis": {
             "endlinecolor": "#2a3f5f",
             "gridcolor": "white",
             "linecolor": "white",
             "minorgridcolor": "white",
             "startlinecolor": "#2a3f5f"
            },
            "baxis": {
             "endlinecolor": "#2a3f5f",
             "gridcolor": "white",
             "linecolor": "white",
             "minorgridcolor": "white",
             "startlinecolor": "#2a3f5f"
            },
            "type": "carpet"
           }
          ],
          "choropleth": [
           {
            "colorbar": {
             "outlinewidth": 0,
             "ticks": ""
            },
            "type": "choropleth"
           }
          ],
          "contour": [
           {
            "colorbar": {
             "outlinewidth": 0,
             "ticks": ""
            },
            "colorscale": [
             [
              0,
              "#0d0887"
             ],
             [
              0.1111111111111111,
              "#46039f"
             ],
             [
              0.2222222222222222,
              "#7201a8"
             ],
             [
              0.3333333333333333,
              "#9c179e"
             ],
             [
              0.4444444444444444,
              "#bd3786"
             ],
             [
              0.5555555555555556,
              "#d8576b"
             ],
             [
              0.6666666666666666,
              "#ed7953"
             ],
             [
              0.7777777777777778,
              "#fb9f3a"
             ],
             [
              0.8888888888888888,
              "#fdca26"
             ],
             [
              1,
              "#f0f921"
             ]
            ],
            "type": "contour"
           }
          ],
          "contourcarpet": [
           {
            "colorbar": {
             "outlinewidth": 0,
             "ticks": ""
            },
            "type": "contourcarpet"
           }
          ],
          "heatmap": [
           {
            "colorbar": {
             "outlinewidth": 0,
             "ticks": ""
            },
            "colorscale": [
             [
              0,
              "#0d0887"
             ],
             [
              0.1111111111111111,
              "#46039f"
             ],
             [
              0.2222222222222222,
              "#7201a8"
             ],
             [
              0.3333333333333333,
              "#9c179e"
             ],
             [
              0.4444444444444444,
              "#bd3786"
             ],
             [
              0.5555555555555556,
              "#d8576b"
             ],
             [
              0.6666666666666666,
              "#ed7953"
             ],
             [
              0.7777777777777778,
              "#fb9f3a"
             ],
             [
              0.8888888888888888,
              "#fdca26"
             ],
             [
              1,
              "#f0f921"
             ]
            ],
            "type": "heatmap"
           }
          ],
          "histogram": [
           {
            "marker": {
             "pattern": {
              "fillmode": "overlay",
              "size": 10,
              "solidity": 0.2
             }
            },
            "type": "histogram"
           }
          ],
          "histogram2d": [
           {
            "colorbar": {
             "outlinewidth": 0,
             "ticks": ""
            },
            "colorscale": [
             [
              0,
              "#0d0887"
             ],
             [
              0.1111111111111111,
              "#46039f"
             ],
             [
              0.2222222222222222,
              "#7201a8"
             ],
             [
              0.3333333333333333,
              "#9c179e"
             ],
             [
              0.4444444444444444,
              "#bd3786"
             ],
             [
              0.5555555555555556,
              "#d8576b"
             ],
             [
              0.6666666666666666,
              "#ed7953"
             ],
             [
              0.7777777777777778,
              "#fb9f3a"
             ],
             [
              0.8888888888888888,
              "#fdca26"
             ],
             [
              1,
              "#f0f921"
             ]
            ],
            "type": "histogram2d"
           }
          ],
          "histogram2dcontour": [
           {
            "colorbar": {
             "outlinewidth": 0,
             "ticks": ""
            },
            "colorscale": [
             [
              0,
              "#0d0887"
             ],
             [
              0.1111111111111111,
              "#46039f"
             ],
             [
              0.2222222222222222,
              "#7201a8"
             ],
             [
              0.3333333333333333,
              "#9c179e"
             ],
             [
              0.4444444444444444,
              "#bd3786"
             ],
             [
              0.5555555555555556,
              "#d8576b"
             ],
             [
              0.6666666666666666,
              "#ed7953"
             ],
             [
              0.7777777777777778,
              "#fb9f3a"
             ],
             [
              0.8888888888888888,
              "#fdca26"
             ],
             [
              1,
              "#f0f921"
             ]
            ],
            "type": "histogram2dcontour"
           }
          ],
          "mesh3d": [
           {
            "colorbar": {
             "outlinewidth": 0,
             "ticks": ""
            },
            "type": "mesh3d"
           }
          ],
          "parcoords": [
           {
            "line": {
             "colorbar": {
              "outlinewidth": 0,
              "ticks": ""
             }
            },
            "type": "parcoords"
           }
          ],
          "pie": [
           {
            "automargin": true,
            "type": "pie"
           }
          ],
          "scatter": [
           {
            "fillpattern": {
             "fillmode": "overlay",
             "size": 10,
             "solidity": 0.2
            },
            "type": "scatter"
           }
          ],
          "scatter3d": [
           {
            "line": {
             "colorbar": {
              "outlinewidth": 0,
              "ticks": ""
             }
            },
            "marker": {
             "colorbar": {
              "outlinewidth": 0,
              "ticks": ""
             }
            },
            "type": "scatter3d"
           }
          ],
          "scattercarpet": [
           {
            "marker": {
             "colorbar": {
              "outlinewidth": 0,
              "ticks": ""
             }
            },
            "type": "scattercarpet"
           }
          ],
          "scattergeo": [
           {
            "marker": {
             "colorbar": {
              "outlinewidth": 0,
              "ticks": ""
             }
            },
            "type": "scattergeo"
           }
          ],
          "scattergl": [
           {
            "marker": {
             "colorbar": {
              "outlinewidth": 0,
              "ticks": ""
             }
            },
            "type": "scattergl"
           }
          ],
          "scattermap": [
           {
            "marker": {
             "colorbar": {
              "outlinewidth": 0,
              "ticks": ""
             }
            },
            "type": "scattermap"
           }
          ],
          "scattermapbox": [
           {
            "marker": {
             "colorbar": {
              "outlinewidth": 0,
              "ticks": ""
             }
            },
            "type": "scattermapbox"
           }
          ],
          "scatterpolar": [
           {
            "marker": {
             "colorbar": {
              "outlinewidth": 0,
              "ticks": ""
             }
            },
            "type": "scatterpolar"
           }
          ],
          "scatterpolargl": [
           {
            "marker": {
             "colorbar": {
              "outlinewidth": 0,
              "ticks": ""
             }
            },
            "type": "scatterpolargl"
           }
          ],
          "scatterternary": [
           {
            "marker": {
             "colorbar": {
              "outlinewidth": 0,
              "ticks": ""
             }
            },
            "type": "scatterternary"
           }
          ],
          "surface": [
           {
            "colorbar": {
             "outlinewidth": 0,
             "ticks": ""
            },
            "colorscale": [
             [
              0,
              "#0d0887"
             ],
             [
              0.1111111111111111,
              "#46039f"
             ],
             [
              0.2222222222222222,
              "#7201a8"
             ],
             [
              0.3333333333333333,
              "#9c179e"
             ],
             [
              0.4444444444444444,
              "#bd3786"
             ],
             [
              0.5555555555555556,
              "#d8576b"
             ],
             [
              0.6666666666666666,
              "#ed7953"
             ],
             [
              0.7777777777777778,
              "#fb9f3a"
             ],
             [
              0.8888888888888888,
              "#fdca26"
             ],
             [
              1,
              "#f0f921"
             ]
            ],
            "type": "surface"
           }
          ],
          "table": [
           {
            "cells": {
             "fill": {
              "color": "#EBF0F8"
             },
             "line": {
              "color": "white"
             }
            },
            "header": {
             "fill": {
              "color": "#C8D4E3"
             },
             "line": {
              "color": "white"
             }
            },
            "type": "table"
           }
          ]
         },
         "layout": {
          "annotationdefaults": {
           "arrowcolor": "#2a3f5f",
           "arrowhead": 0,
           "arrowwidth": 1
          },
          "autotypenumbers": "strict",
          "coloraxis": {
           "colorbar": {
            "outlinewidth": 0,
            "ticks": ""
           }
          },
          "colorscale": {
           "diverging": [
            [
             0,
             "#8e0152"
            ],
            [
             0.1,
             "#c51b7d"
            ],
            [
             0.2,
             "#de77ae"
            ],
            [
             0.3,
             "#f1b6da"
            ],
            [
             0.4,
             "#fde0ef"
            ],
            [
             0.5,
             "#f7f7f7"
            ],
            [
             0.6,
             "#e6f5d0"
            ],
            [
             0.7,
             "#b8e186"
            ],
            [
             0.8,
             "#7fbc41"
            ],
            [
             0.9,
             "#4d9221"
            ],
            [
             1,
             "#276419"
            ]
           ],
           "sequential": [
            [
             0,
             "#0d0887"
            ],
            [
             0.1111111111111111,
             "#46039f"
            ],
            [
             0.2222222222222222,
             "#7201a8"
            ],
            [
             0.3333333333333333,
             "#9c179e"
            ],
            [
             0.4444444444444444,
             "#bd3786"
            ],
            [
             0.5555555555555556,
             "#d8576b"
            ],
            [
             0.6666666666666666,
             "#ed7953"
            ],
            [
             0.7777777777777778,
             "#fb9f3a"
            ],
            [
             0.8888888888888888,
             "#fdca26"
            ],
            [
             1,
             "#f0f921"
            ]
           ],
           "sequentialminus": [
            [
             0,
             "#0d0887"
            ],
            [
             0.1111111111111111,
             "#46039f"
            ],
            [
             0.2222222222222222,
             "#7201a8"
            ],
            [
             0.3333333333333333,
             "#9c179e"
            ],
            [
             0.4444444444444444,
             "#bd3786"
            ],
            [
             0.5555555555555556,
             "#d8576b"
            ],
            [
             0.6666666666666666,
             "#ed7953"
            ],
            [
             0.7777777777777778,
             "#fb9f3a"
            ],
            [
             0.8888888888888888,
             "#fdca26"
            ],
            [
             1,
             "#f0f921"
            ]
           ]
          },
          "colorway": [
           "#636efa",
           "#EF553B",
           "#00cc96",
           "#ab63fa",
           "#FFA15A",
           "#19d3f3",
           "#FF6692",
           "#B6E880",
           "#FF97FF",
           "#FECB52"
          ],
          "font": {
           "color": "#2a3f5f"
          },
          "geo": {
           "bgcolor": "white",
           "lakecolor": "white",
           "landcolor": "#E5ECF6",
           "showlakes": true,
           "showland": true,
           "subunitcolor": "white"
          },
          "hoverlabel": {
           "align": "left"
          },
          "hovermode": "closest",
          "mapbox": {
           "style": "light"
          },
          "paper_bgcolor": "white",
          "plot_bgcolor": "#E5ECF6",
          "polar": {
           "angularaxis": {
            "gridcolor": "white",
            "linecolor": "white",
            "ticks": ""
           },
           "bgcolor": "#E5ECF6",
           "radialaxis": {
            "gridcolor": "white",
            "linecolor": "white",
            "ticks": ""
           }
          },
          "scene": {
           "xaxis": {
            "backgroundcolor": "#E5ECF6",
            "gridcolor": "white",
            "gridwidth": 2,
            "linecolor": "white",
            "showbackground": true,
            "ticks": "",
            "zerolinecolor": "white"
           },
           "yaxis": {
            "backgroundcolor": "#E5ECF6",
            "gridcolor": "white",
            "gridwidth": 2,
            "linecolor": "white",
            "showbackground": true,
            "ticks": "",
            "zerolinecolor": "white"
           },
           "zaxis": {
            "backgroundcolor": "#E5ECF6",
            "gridcolor": "white",
            "gridwidth": 2,
            "linecolor": "white",
            "showbackground": true,
            "ticks": "",
            "zerolinecolor": "white"
           }
          },
          "shapedefaults": {
           "line": {
            "color": "#2a3f5f"
           }
          },
          "ternary": {
           "aaxis": {
            "gridcolor": "white",
            "linecolor": "white",
            "ticks": ""
           },
           "baxis": {
            "gridcolor": "white",
            "linecolor": "white",
            "ticks": ""
           },
           "bgcolor": "#E5ECF6",
           "caxis": {
            "gridcolor": "white",
            "linecolor": "white",
            "ticks": ""
           }
          },
          "title": {
           "x": 0.05
          },
          "xaxis": {
           "automargin": true,
           "gridcolor": "white",
           "linecolor": "white",
           "ticks": "",
           "title": {
            "standoff": 15
           },
           "zerolinecolor": "white",
           "zerolinewidth": 2
          },
          "yaxis": {
           "automargin": true,
           "gridcolor": "white",
           "linecolor": "white",
           "ticks": "",
           "title": {
            "standoff": 15
           },
           "zerolinecolor": "white",
           "zerolinewidth": 2
          }
         }
        },
        "title": {
         "font": {
          "size": 16
         },
         "text": "Top 15 Countries by Netflix Content Production"
        },
        "xaxis": {
         "anchor": "y",
         "domain": [
          0,
          1
         ],
         "title": {
          "text": "Number of Titles"
         }
        },
        "yaxis": {
         "anchor": "x",
         "categoryorder": "total ascending",
         "domain": [
          0,
          1
         ],
         "title": {
          "text": "Country"
         }
        }
       }
      }
     },
     "metadata": {},
     "output_type": "display_data"
    }
   ],
   "source": [
    "# Full country_codes dictionary\n",
    "country_codes = {\n",
    "    'afghanistan': 'AFG',\n",
    "    'albania': 'ALB',\n",
    "    'algeria': 'DZA',\n",
    "    'american samoa': 'ASM',\n",
    "    'andorra': 'AND',\n",
    "    'angola': 'AGO',\n",
    "    'anguilla': 'AIA',\n",
    "    'antigua and barbuda': 'ATG',\n",
    "    'argentina': 'ARG',\n",
    "    'armenia': 'ARM',\n",
    "    'aruba': 'ABW',\n",
    "    'australia': 'AUS',\n",
    "    'austria': 'AUT',\n",
    "    'azerbaijan': 'AZE',\n",
    "    'bahamas': 'BHM',\n",
    "    'bahrain': 'BHR',\n",
    "    'bangladesh': 'BGD',\n",
    "    'barbados': 'BRB',\n",
    "    'belarus': 'BLR',\n",
    "    'belgium': 'BEL',\n",
    "    'belize': 'BLZ',\n",
    "    'benin': 'BEN',\n",
    "    'bermuda': 'BMU',\n",
    "    'bhutan': 'BTN',\n",
    "    'bolivia': 'BOL',\n",
    "    'bosnia and herzegovina': 'BIH',\n",
    "    'botswana': 'BWA',\n",
    "    'brazil': 'BRA',\n",
    "    'british virgin islands': 'VGB',\n",
    "    'brunei': 'BRN',\n",
    "    'bulgaria': 'BGR',\n",
    "    'burkina faso': 'BFA',\n",
    "    'burma': 'MMR',\n",
    "    'burundi': 'BDI',\n",
    "    'cabo verde': 'CPV',\n",
    "    'cambodia': 'KHM',\n",
    "    'cameroon': 'CMR',\n",
    "    'canada': 'CAN',\n",
    "    'cayman islands': 'CYM',\n",
    "    'central african republic': 'CAF',\n",
    "    'chad': 'TCD',\n",
    "    'chile': 'CHL',\n",
    "    'china': 'CHN',\n",
    "    'colombia': 'COL',\n",
    "    'comoros': 'COM',\n",
    "    'congo democratic': 'COD',\n",
    "    'congo republic': 'COG',\n",
    "    'cook islands': 'COK',\n",
    "    'costa rica': 'CRI',\n",
    "    \"cote d'ivoire\": 'CIV',\n",
    "    'croatia': 'HRV',\n",
    "    'cuba': 'CUB',\n",
    "    'curacao': 'CUW',\n",
    "    'cyprus': 'CYP',\n",
    "    'czech republic': 'CZE',\n",
    "    'denmark': 'DNK',\n",
    "    'djibouti': 'DJI',\n",
    "    'dominica': 'DMA',\n",
    "    'dominican republic': 'DOM',\n",
    "    'ecuador': 'ECU',\n",
    "    'egypt': 'EGY',\n",
    "    'el salvador': 'SLV',\n",
    "    'equatorial guinea': 'GNQ',\n",
    "    'eritrea': 'ERI',\n",
    "    'estonia': 'EST',\n",
    "    'ethiopia': 'ETH',\n",
    "    'falkland islands': 'FLK',\n",
    "    'faroe islands': 'FRO',\n",
    "    'fiji': 'FJI',\n",
    "    'finland': 'FIN',\n",
    "    'france': 'FRA',\n",
    "    'french polynesia': 'PYF',\n",
    "    'gabon': 'GAB',\n",
    "    'gambia, the': 'GMB',\n",
    "    'georgia': 'GEO',\n",
    "    'germany': 'DEU',\n",
    "    'ghana': 'GHA',\n",
    "    'gibraltar': 'GIB',\n",
    "    'greece': 'GRC',\n",
    "    'greenland': 'GRL',\n",
    "    'grenada': 'GRD',\n",
    "    'guam': 'GUM',\n",
    "    'guatemala': 'GTM',\n",
    "    'guernsey': 'GGY',\n",
    "    'guinea-bissau': 'GNB',\n",
    "    'guinea': 'GIN',\n",
    "    'guyana': 'GUY',\n",
    "    'haiti': 'HTI',\n",
    "    'honduras': 'HND',\n",
    "    'hong kong': 'HKG',\n",
    "    'hungary': 'HUN',\n",
    "    'iceland': 'ISL',\n",
    "    'india': 'IND',\n",
    "    'indonesia': 'IDN',\n",
    "    'iran': 'IRN',\n",
    "    'iraq': 'IRQ',\n",
    "    'ireland': 'IRL',\n",
    "    'isle of man': 'IMN',\n",
    "    'israel': 'ISR',\n",
    "    'italy': 'ITA',\n",
    "    'jamaica': 'JAM',\n",
    "    'japan': 'JPN',\n",
    "    'jersey': 'JEY',\n",
    "    'jordan': 'JOR',\n",
    "    'kazakhstan': 'KAZ',\n",
    "    'kenya': 'KEN',\n",
    "    'kiribati': 'KIR',\n",
    "    'north korea': 'PRK',\n",
    "    'south korea': 'KOR',\n",
    "    'kosovo': 'KSV',\n",
    "    'kuwait': 'KWT',\n",
    "    'kyrgyzstan': 'KGZ',\n",
    "    'laos': 'LAO',\n",
    "    'latvia': 'LVA',\n",
    "    'lebanon': 'LBN',\n",
    "    'lesotho': 'LSO',\n",
    "    'liberia': 'LBR',\n",
    "    'libya': 'LBY',\n",
    "    'liechtenstein': 'LIE',\n",
    "    'lithuania': 'LTU',\n",
    "    'luxembourg': 'LUX',\n",
    "    'macau': 'MAC',\n",
    "    'macedonia': 'MKD',\n",
    "    'madagascar': 'MDG',\n",
    "    'malawi': 'MWI',\n",
    "    'malaysia': 'MYS',\n",
    "    'maldives': 'MDV',\n",
    "    'mali': 'MLI',\n",
    "    'malta': 'MLT',\n",
    "    'marshall islands': 'MHL',\n",
    "    'mauritania': 'MRT',\n",
    "    'mauritius': 'MUS',\n",
    "    'mexico': 'MEX',\n",
    "    'micronesia': 'FSM',\n",
    "    'moldova': 'MDA',\n",
    "    'monaco': 'MCO',\n",
    "    'mongolia': 'MNG',\n",
    "    'montenegro': 'MNE',\n",
    "    'morocco': 'MAR',\n",
    "    'mozambique': 'MOZ',\n",
    "    'namibia': 'NAM',\n",
    "    'nepal': 'NPL',\n",
    "    'netherlands': 'NLD',\n",
    "    'new caledonia': 'NCL',\n",
    "    'new zealand': 'NZL',\n",
    "    'nicaragua': 'NIC',\n",
    "    'nigeria': 'NGA',\n",
    "    'niger': 'NER',\n",
    "    'niue': 'NIU',\n",
    "    'northern mariana islands': 'MNP',\n",
    "    'norway': 'NOR',\n",
    "    'oman': 'OMN',\n",
    "    'pakistan': 'PAK',\n",
    "    'palau': 'PLW',\n",
    "    'panama': 'PAN',\n",
    "    'papua new guinea': 'PNG',\n",
    "    'paraguay': 'PRY',\n",
    "    'peru': 'PER',\n",
    "    'philippines': 'PHL',\n",
    "    'poland': 'POL',\n",
    "    'portugal': 'PRT',\n",
    "    'puerto rico': 'PRI',\n",
    "    'qatar': 'QAT',\n",
    "    'romania': 'ROU',\n",
    "    'russia': 'RUS',\n",
    "    'rwanda': 'RWA',\n",
    "    'saint kitts and nevis': 'KNA',\n",
    "    'saint lucia': 'LCA',\n",
    "    'saint martin': 'MAF',\n",
    "    'saint pierre and miquelon': 'SPM',\n",
    "    'saint vincent and the grenadines': 'VCT',\n",
    "    'samoa': 'WSM',\n",
    "    'san marino': 'SMR',\n",
    "    'sao tome and principe': 'STP',\n",
    "    'saudi arabia': 'SAU',\n",
    "    'senegal': 'SEN',\n",
    "    'serbia': 'SRB',\n",
    "    'seychelles': 'SYC',\n",
    "    'sierra leone': 'SLE',\n",
    "    'singapore': 'SGP',\n",
    "    'sint maarten': 'SXM',\n",
    "    'slovakia': 'SVK',\n",
    "    'slovenia': 'SVN',\n",
    "    'solomon islands': 'SLB',\n",
    "    'somalia': 'SOM',\n",
    "    'south africa': 'ZAF',\n",
    "    'south sudan': 'SSD',\n",
    "    'spain': 'ESP',\n",
    "    'sri lanka': 'LKA',\n",
    "    'sudan': 'SDN',\n",
    "    'suriname': 'SUR',\n",
    "    'swaziland': 'SWZ',\n",
    "    'sweden': 'SWE',\n",
    "    'switzerland': 'CHE',\n",
    "    'syria': 'SYR',\n",
    "    'taiwan': 'TWN',\n",
    "    'tajikistan': 'TJK',\n",
    "    'tanzania': 'TZA',\n",
    "    'thailand': 'THA',\n",
    "    'timor-leste': 'TLS',\n",
    "    'togo': 'TGO',\n",
    "    'tonga': 'TON',\n",
    "    'trinidad and tobago': 'TTO',\n",
    "    'tunisia': 'TUN',\n",
    "    'turkey': 'TUR',\n",
    "    'turkmenistan': 'TKM',\n",
    "    'tuvalu': 'TUV',\n",
    "    'uganda': 'UGA',\n",
    "    'ukraine': 'UKR',\n",
    "    'united arab emirates': 'ARE',\n",
    "    'united kingdom': 'GBR',\n",
    "    'united states': 'USA',\n",
    "    'uruguay': 'URY',\n",
    "    'uzbekistan': 'UZB',\n",
    "    'vanuatu': 'VUT',\n",
    "    'venezuela': 'VEN',\n",
    "    'vietnam': 'VNM',\n",
    "    'virgin islands': 'VIR',\n",
    "    'western sahara': 'ESH',\n",
    "    'yemen': 'YEM',\n",
    "    'zambia': 'ZMB',\n",
    "    'zimbabwe': 'ZWE'\n",
    "}\n",
    "\n",
    "from collections import Counter\n",
    "import plotly.graph_objs as go\n",
    "from plotly.offline import iplot\n",
    "\n",
    "def geoplot(df):\n",
    "    country_with_code = {}\n",
    "    country_counts = {}\n",
    "\n",
    "    # Split multiple countries in the 'country' column, flatten, and lowercase\n",
    "    shows_countries = df['country'].dropna().str.split(', ').explode()\n",
    "    counts = Counter([c.lower() for c in shows_countries])\n",
    "\n",
    "    for country_lower, count in counts.items():\n",
    "        code = country_codes.get(country_lower, None)\n",
    "        if code:\n",
    "            country_with_code[code] = count\n",
    "            country_counts[country_lower.title()] = count\n",
    "\n",
    "    # Choropleth map setup\n",
    "    data = [dict(\n",
    "        type='choropleth',\n",
    "        locations=list(country_with_code.keys()),\n",
    "        z=list(country_with_code.values()),\n",
    "        colorscale='Reds',\n",
    "        autocolorscale=False,\n",
    "        reversescale=False,\n",
    "        marker=dict(line=dict(color='gray', width=0.5)),\n",
    "        colorbar=dict(autotick=False, title='Number of Titles')\n",
    "    )]\n",
    "\n",
    "    layout = dict(\n",
    "        title='Netflix Content Distribution by Country',\n",
    "        geo=dict(\n",
    "            showframe=False,\n",
    "            showcoastlines=False,\n",
    "            projection=dict(type='Mercator')\n",
    "        )\n",
    "    )\n",
    "\n",
    "    fig = dict(data=data, layout=layout)\n",
    "    iplot(fig, validate=False, filename='d3-world-map')\n",
    "\n",
    "    return country_counts\n",
    "\n",
    "# Run the map function and get country counts\n",
    "country_vals = geoplot(df)\n",
    "\n",
    "# Prepare data for bar chart (top 15 countries)\n",
    "top_countries = Counter(country_vals).most_common(15)\n",
    "labels = [item[0] for item in top_countries]\n",
    "values = [item[1] for item in top_countries]\n",
    "\n",
    "# Extract countries from the country column\n",
    "all_countries = []\n",
    "\n",
    "if 'country' in df.columns:\n",
    "    \n",
    "    for countries_str in df['country'].dropna():\n",
    "        if pd.notna(countries_str) and countries_str != '':\n",
    "            countries = [country.strip() for country in str(countries_str).split(',')]\n",
    "            all_countries.extend(countries)\n",
    "    \n",
    "    if all_countries:\n",
    "        # Count countries and sort descending\n",
    "        country_counts = pd.Series(all_countries).value_counts().head(15).sort_values(ascending=False)\n",
    "        \n",
    "        try:\n",
    "            # Plotly horizontal bar chart with largest at the top\n",
    "            fig = px.bar(\n",
    "                x=country_counts.values,\n",
    "                y=country_counts.index,\n",
    "                orientation='h',\n",
    "                title='Top 15 Countries by Netflix Content Production',\n",
    "                labels={'x': 'Number of Titles', 'y': 'Country'},\n",
    "                color=country_counts.values,\n",
    "                color_continuous_scale='Reds'\n",
    "            )\n",
    "            \n",
    "            fig.update_layout(\n",
    "                height=600,\n",
    "                yaxis={'categoryorder': 'total ascending'},  # largest at top\n",
    "                title_font_size=16,\n",
    "                showlegend=False\n",
    "            )\n",
    "            fig.show()\n",
    "            \n",
    "        except Exception:\n",
    "            # Fallback to matplotlib\n",
    "            plt.figure(figsize=(12, 8))\n",
    "            y_pos = range(len(country_counts))\n",
    "            bars = plt.barh(y_pos, country_counts.values, color='#E50914', alpha=0.8)\n",
    "            \n",
    "            plt.yticks(y_pos, country_counts.index)\n",
    "            plt.xlabel('Number of Titles', fontsize=12)\n",
    "            plt.ylabel('Country', fontsize=12)\n",
    "            plt.title('Top 15 Countries by Netflix Content Production', fontsize=16, fontweight='bold')\n",
    "            plt.grid(axis='x', alpha=0.3)\n",
    "            \n",
    "            for i, bar in enumerate(bars):\n",
    "                width = bar.get_width()\n",
    "                plt.text(width + 20, bar.get_y() + bar.get_height()/2, \n",
    "                         f'{int(width)}', ha='left', va='center', fontsize=10)\n",
    "            \n",
    "            plt.tight_layout()\n",
    "            plt.show()"
   ]
  },
  {
   "cell_type": "markdown",
   "metadata": {},
   "source": [
    "### Insights from Hypothesis 3: Countries Adding the Most Content\n",
    "\n",
    "The analysis of Netflix content by country reveals significant differences in contribution levels:\n",
    "\n",
    "- The United States leads by a wide margin in the number of titles contributed to Netflix’s catalogue.\n",
    "- India ranks second, producing roughly half the content volume compared to the USA, highlighting its growing role in Netflix’s global content strategy.\n",
    "- Other countries contribute fewer titles, with a steep drop-off after the top few producers.\n",
    "- This distribution likely reflects Netflix’s focus on major markets and regions with high subscriber bases.\n",
    "- The choropleth map and the horizontal bar chart visually highlight the geographical concentration of content production.\n",
    "- The concentration of content in a few countries could impact the diversity of available shows and movies.\n",
    "- Some countries with smaller contributions might be underrepresented, possibly due to language, market size, or Netflix’s content licensing strategies.\n",
    "\n",
    "Overall, the visualisations provide a clear picture of which countries dominate Netflix’s content library and indicate areas where expansion or localisation might occur.\n"
   ]
  },
  {
   "cell_type": "markdown",
   "metadata": {},
   "source": [
    "### Hypothesis 4: Top Genres on Netflix  \n",
    "*Some genres dominate the Netflix catalogue more than others.*\n",
    "\n",
    "**Validation:**  \n",
    "- Use the `genre` column as categories.  \n",
    "- Count the number of shows in each genre.  \n",
    "- Visualise the most common genres with a Seaborn bar chart."
   ]
  },
  {
   "cell_type": "code",
   "execution_count": 17,
   "metadata": {},
   "outputs": [
    {
     "name": "stderr",
     "output_type": "stream",
     "text": [
      "C:\\Users\\Harpr\\AppData\\Local\\Temp\\ipykernel_18324\\3408355061.py:10: FutureWarning:\n",
      "\n",
      "\n",
      "\n",
      "Passing `palette` without assigning `hue` is deprecated and will be removed in v0.14.0. Assign the `y` variable to `hue` and set `legend=False` for the same effect.\n",
      "\n",
      "\n"
     ]
    },
    {
     "data": {
      "image/png": "[encoded data removed]",
      "text/plain": [
       "<Figure size 1000x600 with 1 Axes>"
      ]
     },
     "metadata": {},
     "output_type": "display_data"
    }
   ],
   "source": [
    "# Check if 'genre' column exists\n",
    "if 'genre' in df.columns:\n",
    "    all_genres = df['genre'].dropna().str.split(', ').explode()\n",
    "    genre_counts = all_genres.value_counts().head(15)\n",
    "\n",
    "   # Create a gradient color palette from light red to dark red\n",
    "    colors = sns.color_palette(\"Reds\", n_colors=len(genre_counts))[::-1]\n",
    "\n",
    "    plt.figure(figsize=(10, 6))\n",
    "    sns.barplot(\n",
    "        x=genre_counts.values,\n",
    "        y=genre_counts.index,\n",
    "        palette=colors  # gradient colors\n",
    "    )\n",
    "\n",
    "    plt.title('Top 15 Netflix Genres', fontsize=16, fontweight='bold')\n",
    "    plt.xlabel('Number of Titles')\n",
    "    plt.ylabel('Genre')\n",
    "    plt.tight_layout()\n",
    "    plt.show()"
   ]
  },
  {
   "cell_type": "markdown",
   "metadata": {},
   "source": [
    "### Insights from Hypothesis 4: Most Popular Genres on Netflix\n",
    "\n",
    "The genre analysis reveals important trends in Netflix’s content library:\n",
    "\n",
    "- **International Movies** emerge as the most popular genre, reflecting Netflix’s strong investment in diverse global content.\n",
    "- Other leading genres include Drama, Comedy, Thriller, and Documentary, highlighting a mix of popular entertainment and factual programming.\n",
    "- The top 15 genres display a broad spectrum of content types, appealing to various viewer preferences across regions.\n",
    "- The gradient bar chart clearly illustrates the prominence of International Movies, setting it apart from other genres.\n",
    "- This suggests Netflix’s strategic focus on expanding international offerings to attract and retain subscribers worldwide.\n",
    "- Understanding this genre popularity can help guide content curation and acquisition to match evolving audience interests.\n",
    "\n",
    "Overall, the dominance of International Movies alongside other major genres demonstrates Netflix’s commitment to global and diverse storytelling."
   ]
  },
  {
   "cell_type": "markdown",
   "metadata": {},
   "source": [
    "---"
   ]
  },
  {
   "cell_type": "markdown",
   "metadata": {
    "id": "ltNetd085qHf"
   },
   "source": [
    "# Conclusions and next step"
   ]
  },
  {
   "cell_type": "markdown",
   "metadata": {},
   "source": [
    "### Conclusions\n",
    "\n",
    "This analysis of the Netflix dataset has revealed several important insights into the platform's content strategy and distribution:\n",
    "\n",
    "- **Content Growth Trends:** Netflix continues to expand its library steadily each year, with noticeable seasonal trends in monthly content additions. This suggests strategic timing for releases, possibly aligned with viewer demand cycles such as holidays or major events.\n",
    "- **Content Type Distribution:** Movies constitute a larger proportion of new titles compared to TV programmes, reflecting Netflix's investment focus and audience preferences. However, TV shows have also shown consistent growth, indicating sustained interest in episodic content.\n",
    "- **Geographic Distribution:** The United States dominates content production, but there is significant representation from other countries such as India, the United Kingdom, and South Korea. This diversity points to Netflix's global expansion strategy and localized content investments to attract regional audiences.\n",
    "- **Genre Popularity:** International Movies rank as the top genre, highlighting Netflix’s push to diversify its catalog beyond traditional genres and appeal to a broad, multicultural audience. Popular genres like Dramas, Documentaries, and Comedies also feature prominently.\n",
    "- **Data Limitations:** Some gaps in metadata, such as missing country or genre information for certain titles, restrict the depth of analysis. Additionally, the absence of user engagement metrics limits insights into content performance from a viewer perspective.\n",
    "\n",
    "Overall, the data reflects Netflix’s adaptive content strategy, balancing quantity, variety, and global reach to maintain competitive advantage in the streaming market.\n",
    "\n",
    "### Next Steps\n",
    "\n",
    "To further enhance understanding and leverage the dataset effectively, the following next steps are recommended:\n",
    "\n",
    "- **Data Enrichment:** Augment the dataset with additional variables such as user ratings, viewing statistics, and release platforms. Incorporating social media sentiment and critic reviews can also provide qualitative context.\n",
    "- **Advanced Visualisations and Dashboards:** Create interactive dashboards with tools like Power BI or Tableau, allowing users to filter and drill down by year, country, genre, and content type for more tailored insights.\n",
    "- **Time Series and Forecasting Analysis:** Employ statistical and machine learning models to forecast future content additions and trends, enabling proactive content strategy planning.\n",
    "- **Audience Segmentation:** Analyse demographic and behavioural data (if available) to identify distinct viewer segments and their content preferences, facilitating targeted marketing and recommendation systems.\n",
    "- **Natural Language Processing:** Use NLP techniques to analyse titles, descriptions, and reviews for sentiment, themes, and emerging trends in viewer interest.\n",
    "- **Automation and Pipeline Development:** Develop automated ETL pipelines to regularly update the dataset and visualisations, ensuring insights stay current with Netflix’s evolving library.\n",
    "- **Collaboration and Integration:** Integrate findings with business intelligence teams or Netflix’s internal data to align analytics efforts with strategic goals.\n",
    "\n",
    "Implementing these steps will enable deeper, more actionable insights into Netflix's content ecosystem, ultimately supporting data-driven decisions for content acquisition, production, and personalized viewer experiences.\n"
   ]
  }
 ],
 "metadata": {
  "accelerator": "GPU",
  "colab": {
   "name": "Data Practitioner Jupyter Notebook.ipynb",
   "provenance": [],
   "toc_visible": true
  },
  "kernelspec": {
   "display_name": "venv (3.12.8)",
   "language": "python",
   "name": "python3"
  },
  "language_info": {
   "codemirror_mode": {
    "name": "ipython",
    "version": 3
   },
   "file_extension": ".py",
   "mimetype": "text/x-python",
   "name": "python",
   "nbconvert_exporter": "python",
   "pygments_lexer": "ipython3",
   "version": "3.12.8"
  },
  "orig_nbformat": 2
 },
 "nbformat": 4,
 "nbformat_minor": 2
}
